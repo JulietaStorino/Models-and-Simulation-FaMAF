{
 "cells": [
  {
   "cell_type": "markdown",
   "metadata": {},
   "source": [
    "# PRÁCTICO 5: GENERACIÓN DE VARIABLES ALEATORIAS CONTINUAS.\n",
    "## Ejercicio 1.\n",
    "Desarrolle un método para generar una variable aleatoria cuya densidad de probabilidad es\n",
    "$$ a) \\ f(x) = \\begin{cases}\\frac{x-2}2 & \\text{si } 2 \\leq x \\leq 3 \\\\ \\frac{2-x/3}2 & \\text{si } 3 \\leq x \\leq 6 \\\\ 0 & \\text{en otro caso} \\end{cases}$$\n",
    "$$ b) \\ f(x) = \\begin{cases} \\frac{6(x+3)}{35} & \\text{si } 0 \\leq x \\leq 1 \\\\ \\frac{6x^2}{35} & \\text{si } 1 \\leq x \\leq 2 \\\\ 0 & \\text{en otro caso} \\end{cases}, \\quad\n",
    "$$\n",
    "$$ c) \\ f(x) = \\begin{cases} \\frac{exp(4x)}{4} & \\text{si } -\\infty < x \\leq 0 \\\\ \\frac14 & \\text{si } 0 < x \\leq \\frac{15}4 \\\\ 0 & \\text{en otro caso} \\end{cases}$$\n",
    "\n",
    "\n",
    "\n",
    "\n",
    "\n",
    "\n",
    "\n",
    "\n",
    "\n",
    "\n",
    "\n",
    "\n",
    "\n",
    "\n"
   ]
  },
  {
   "cell_type": "code",
   "execution_count": 11,
   "metadata": {},
   "outputs": [
    {
     "name": "stdout",
     "output_type": "stream",
     "text": [
      "2.600144349278863\n",
      "5.512550904373222\n",
      "3.209252794339104\n",
      "4.254725832142899\n",
      "3.839801329312265\n",
      "3.225895199981124\n",
      "3.637181555576436\n",
      "4.724881643510523\n",
      "2.95952835698658\n",
      "2.532619042160767\n"
     ]
    }
   ],
   "source": [
    "from random import random\n",
    "from math import sqrt\n",
    "def a(): #Implementado con el método de la transformada inversa\n",
    "    U = random()\n",
    "    if U < .25:\n",
    "        return (1 + sqrt(U)) * 2\n",
    "    else:\n",
    "        return (1 - sqrt(1-(2+U)/3)) * 6\n",
    "\n",
    "for i in range(10):\n",
    "    print(a())"
   ]
  },
  {
   "cell_type": "code",
   "execution_count": 20,
   "metadata": {},
   "outputs": [
    {
     "name": "stdout",
     "output_type": "stream",
     "text": [
      "0.6149822014834743\n",
      "1.6374952969520438\n",
      "0.8571748153103904\n",
      "0.3081864075067342\n",
      "0.5393789413258196\n",
      "1.963837161755083\n",
      "0.4773172545190447\n",
      "1.2946779880441746\n",
      "1.38943138932295\n",
      "1.3002609070769735\n"
     ]
    }
   ],
   "source": [
    "from math import cbrt\n",
    "def b(): #Implementado con el método de la transformada inversa\n",
    "    U = random()\n",
    "    if U < .6:\n",
    "        return -3 + sqrt(9+U*35/3)\n",
    "    else:\n",
    "        return cbrt((U-3/5)*35/2+1)\n",
    "\n",
    "for i in range(10):\n",
    "    print(b())"
   ]
  },
  {
   "cell_type": "code",
   "execution_count": 23,
   "metadata": {},
   "outputs": [
    {
     "name": "stdout",
     "output_type": "stream",
     "text": [
      "0.510491347331254\n",
      "3.5762292245327543\n",
      "1.2132160995936436\n",
      "-0.18502407081698746\n",
      "0.17660404668735596\n",
      "1.4482563895014198\n",
      "2.921517097158268\n",
      "3.321502603695765\n",
      "0.4694891127021181\n",
      "1.0011284209305469\n"
     ]
    }
   ],
   "source": [
    "import numpy as np\n",
    "def c(): #Implementado con el método de la transformada inversa\n",
    "    U = random()\n",
    "    if U < .0625:\n",
    "        return np.log(16*U)/4\n",
    "    else:\n",
    "        return (U-1/16)*4\n",
    "\n",
    "for i in range(10):\n",
    "    print(c())"
   ]
  }
 ],
 "metadata": {
  "kernelspec": {
   "display_name": "Python 3",
   "language": "python",
   "name": "python3"
  },
  "language_info": {
   "codemirror_mode": {
    "name": "ipython",
    "version": 3
   },
   "file_extension": ".py",
   "mimetype": "text/x-python",
   "name": "python",
   "nbconvert_exporter": "python",
   "pygments_lexer": "ipython3",
   "version": "3.11.6"
  }
 },
 "nbformat": 4,
 "nbformat_minor": 2
}
