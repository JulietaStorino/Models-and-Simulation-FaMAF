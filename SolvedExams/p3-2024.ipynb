{
 "cells": [
  {
   "cell_type": "markdown",
   "metadata": {},
   "source": [
    "# TERCER PARCIALITO\n",
    "\n",
    "Se quiere estimar mediante un intervalo de confianza de 95% el valor de la siguiente integral:\n",
    "\n",
    "$$\\int_0^1\\frac{\\sin x}{2x}dx$$\n",
    "\n",
    "En el paso $n = 109$, se obtienen los siguientes valores:\n",
    "\n",
    "$$ S^2(109) = 0.1, \\quad \\bar X(109) = 0.5, \\quad U_{110} = π/6,$$\n",
    "\n",
    "donde $U_{110}$ es el valor de la variable uniforme sorteada en el paso 110 de la simulación.\n",
    "\n",
    "a) Calcular $S^2(110)$.\n",
    "\n",
    "b) Usar este valor para calcular la longitud del intervalo de confianza del 95%.\n",
    "\n",
    "## Solución\n",
    "\n",
    "a) Para calcular $S^2(110)$, usamos la fórmula recursiva para la varianza y la media muestral:\n",
    "\n",
    "$$\n",
    "\\begin{align}\n",
    "\\bar X(110) &= \\bar X(109+1) \\nonumber \\\\\n",
    "&= \\bar X(109) + \\frac{X_{110} - \\bar X(109)}{110} \\nonumber \\\\\n",
    "&= 0.5 + \\frac{\\pi/6 - 0.5}{110} \\nonumber \\\\\n",
    "&\\approx 0.5002 \\nonumber\n",
    "\\end{align},\n",
    "$$\n",
    "\n",
    "\n",
    "\n",
    "$$\n",
    "\\begin{align}\n",
    "S^2(110) &= S^2(109+1) \\nonumber \\\\\n",
    "&= \\bigg(1-\\frac1{109}\\bigg) S^2(109) + (110)(\\bar X(110)-\\bar X(109))^2 \\nonumber \\\\   \n",
    "&= \\bigg(1-\\frac1{109}\\bigg) 0.1 + (110)(0.5002-0.5)^2 \\nonumber \\\\\n",
    "&\\approx 0.0991 \\nonumber\n",
    "\\end{align}.\n",
    "$$\n",
    "\n",
    "b) Para calcular la longitud del intervalo de confianza del 95%, usamos la fórmula:\n",
    "\n",
    "$$\n",
    "\\begin{align}\n",
    "L&>2\\times z_{\\alpha/2}\\times\\frac{S(n)}{\\sqrt{n}} \\nonumber \\\\\n",
    "&=2\\times z_{0.025}\\times\\frac{\\sqrt{0.0991}}{\\sqrt{110}} \\nonumber \\\\\n",
    "&=2\\times 1.96\\times\\frac{\\sqrt{0.0991}}{\\sqrt{110}} \\nonumber \\\\\n",
    "&\\approx 0.1177 \\nonumber\n",
    "\\end{align}\n",
    "$$"
   ]
  }
 ],
 "metadata": {
  "language_info": {
   "name": "python"
  }
 },
 "nbformat": 4,
 "nbformat_minor": 2
}
