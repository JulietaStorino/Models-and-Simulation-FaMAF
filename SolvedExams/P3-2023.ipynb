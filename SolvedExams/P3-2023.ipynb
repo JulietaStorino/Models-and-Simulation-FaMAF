{
 "cells": [
  {
   "cell_type": "markdown",
   "metadata": {},
   "source": [
    "# PARCIAL 3 - 15/06/2023\n",
    "\n",
    "[Consignas](https://github.com/ExamenesViejos-FaMAF-Computacion/ExamenesViejos_ModelosYSimulacion_FaMAF/blob/60d31d6788e536a32c7a1ce05fcff1b8356ba252/Parcial%203%202023-06-15.pdf)\n",
    "\n",
    "## Ejercicio 1\n",
    "### a)\n",
    "\n",
    "*$H_0$:* Los datos obtenidos provienen de una distribución global.\n",
    "\n",
    "*$H_1$:* Los datos obtenidos no provienen de una distribución global.\n",
    "\n",
    "$n = 120 + 114 + 92 + 85 + 34 + 33 + 45 + 11 + 5 = 539$\n",
    "\n",
    "$$\\begin{align}\n",
    "T&=\\sum_{i=1}^{k}\\frac{(N_i-np_i)^2}{np_i} \\notag \\\\\n",
    "&=\\frac{(120-539\\times 0.22)^2}{539\\times 0.22}\n",
    "+\\frac{(114-539\\times 0.20)^2}{539\\times 0.20}\n",
    "+\\frac{(92-539\\times 0.19)^2}{539\\times 0.19}\n",
    "+\\frac{(85-539\\times 0.12)^2}{539\\times 0.12}\n",
    "+\\frac{(34-539\\times 0.09)^2}{539\\times 0.09}\n",
    "+\\frac{(33-539\\times 0.08)^2}{539\\times 0.08}\n",
    "+\\frac{(45-539\\times 0.07)^2}{539\\times 0.07}\n",
    "+\\frac{(11-539\\times 0.02)^2}{539\\times 0.02}\n",
    "+\\frac{(5-539\\times 0.01)^2}{539\\times 0.01} \\notag \\\\\n",
    "&\\approx 15.9643 \\notag \\\\\n",
    "\\end{align}$$\n",
    "\n",
    "### b)\n",
    "#### i)\n",
    "$$p-valor = P(\\chi^2_{8} \\geq 15.9643) \\approx 0.05$$\n",
    "\n",
    "#### ii)"
   ]
  },
  {
   "cell_type": "code",
   "execution_count": 2,
   "metadata": {},
   "outputs": [
    {
     "name": "stdout",
     "output_type": "stream",
     "text": [
      "p-valor:  0.0433\n"
     ]
    }
   ],
   "source": [
    "from numpy.random import multinomial\n",
    "\n",
    "def ejercicio1(Nsim=10000):\n",
    "    region = [120, 114, 92, 85, 34, 33, 45, 11, 5]\n",
    "    prop = [.22 ,.20 ,.19 ,.12 ,.09 ,.08 ,.07 ,.02 ,.01]\n",
    "    n = sum(region)\n",
    "    T = sum((region[i] - n*prop[i])**2/(n*prop[i]) for i in range(9))\n",
    "    pvalor = 0\n",
    "    for _ in range(Nsim):\n",
    "        N = multinomial(n, prop)\n",
    "        t = sum((N[i] - n*prop[i])**2/(n*prop[i]) for i in range(9))\n",
    "        if t >= T:\n",
    "            pvalor += 1\n",
    "    return pvalor / Nsim\n",
    "\n",
    "pvalor = ejercicio1()\n",
    "print(\"p-valor: \", pvalor)\n"
   ]
  },
  {
   "cell_type": "markdown",
   "metadata": {},
   "source": [
    "## Ejercicio 2\n",
    "No entra en el parcial.\n",
    "\n",
    "## Ejercicio 3\n",
    "### a)\n",
    "\n",
    "<div style=\"text-align: center;\">\n",
    "    <img src=\"https://i.ibb.co/BPmPsCR/Whats-App-Image-2024-06-13-at-02-00-55.jpg\" width=\"400\">\n",
    "    <p><em>Diagrama de transicion</em></p>\n",
    "</div>\n",
    "\n",
    "### b)\n",
    "Como $C_1 = \\{0, 1, 2\\}$ no es cerrado (ya que el estado 2 se comunica con el estado 3), entonces $S = \\{0, 1, 2\\}\\cup\\{3, 4\\}$ no es irreducible. Por lo tanto, como el espacio de estados de la cadena de Markov ($S$) no es irreducible, luego la cadena de Markov no es irreducible.\n",
    "\n",
    "### c)\n",
    "Clases comunicantes:\n",
    "* $C_1 = \\{0, 1, 2,\\}$,\n",
    "* $C_2 = \\{3, 4\\}$. \n",
    "\n",
    "Estados recurrentes: 0, 1, 3, 4.\n",
    "\n",
    "Estado transitorio: 2.\n",
    "\n",
    "### d)\n",
    "Primero definimos $A = 3, 4$ y $h_i=h_i^A=P(H^{\\{3,4\\}}<\\infty|X_0=i), \\quad i=0,...,1$. Luego, resolvemos el siguiente sistema de ecuaciones:\n",
    "\n",
    "$$\\begin{align}\n",
    "h_0&=h_1 \\notag \\\\\n",
    "h_1&=\\frac{2}{3}h_0+\\frac{1}{3}h_2 \\notag \\\\\n",
    "h_2&=\\frac14h_0+\\frac14h_1+\\frac12h_3 \\notag \\\\\n",
    "h_3&=1 \\notag \\\\\n",
    "h_4&=1 \\notag \\\\\n",
    "\\end{align}$$\n",
    "\n",
    "Que se cumple para $h_0=h_1=h_2=h_3=h_4=1$.\n",
    "\n",
    "## Ejercicio 4\n",
    "### a)\n",
    "El estimador que se usa para la proporción es $\\bar X(n)$ y su varianza es:\n",
    "\n",
    "$$Var(\\hat p(n)) = \\frac{\\bar X(n)(1 − \\bar X(n))}{n}.$$\n",
    "\n",
    "### b)"
   ]
  },
  {
   "cell_type": "code",
   "execution_count": 20,
   "metadata": {},
   "outputs": [
    {
     "name": "stdout",
     "output_type": "stream",
     "text": [
      "Valor de la probabilidad estimada:  0.40259740259740306\n",
      "Varianza de la probabilidad estimada:  0.00024051273401922763\n"
     ]
    }
   ],
   "source": [
    "from random import random\n",
    "from math import sqrt\n",
    "\n",
    "def simularPunto():\n",
    "    x = 4 * random() - 2\n",
    "    y = 2 * random() - 1\n",
    "    return x**2 + y**2 <= 1\n",
    "\n",
    "def ejercicio4b(Nsim=1000):\n",
    "    p = 0\n",
    "    n = 0\n",
    "    while n <= Nsim:\n",
    "        n += 1\n",
    "        X = simularPunto()\n",
    "        p = p + (X - p) / n\n",
    "    return p\n",
    "\n",
    "p = ejercicio4b()\n",
    "print(\"Valor de la probabilidad estimada: \", p)\n",
    "print(\"Varianza de la probabilidad estimada: \", p*(1-p)/1000)"
   ]
  },
  {
   "cell_type": "markdown",
   "metadata": {},
   "source": [
    "### c)"
   ]
  },
  {
   "cell_type": "code",
   "execution_count": 21,
   "metadata": {},
   "outputs": [
    {
     "name": "stdout",
     "output_type": "stream",
     "text": [
      "Número de iteraciones necesarias:  101\n",
      "Valor de la probabilidad estimada:  0.396039603960396\n",
      "Varianza de la probabilidad estimada:  0.0023682399609434527\n"
     ]
    }
   ],
   "source": [
    "def ejercicio4c(z_alfa_2=.025,L=.1,):\n",
    "    d = L / (2 * z_alfa_2)\n",
    "    p = 0; n = 0\n",
    "    while n <= 100 or sqrt(p * (1 - p) / n) > d:\n",
    "        n += 1\n",
    "        X = simularPunto()\n",
    "        p = p + (X - p) / n\n",
    "    return p, n\n",
    "\n",
    "p, n = ejercicio4c()\n",
    "print(\"Número de iteraciones necesarias: \", n)\n",
    "print(\"Valor de la probabilidad estimada: \", p)\n",
    "print(\"Varianza de la probabilidad estimada: \", p*(1-p)/n)"
   ]
  }
 ],
 "metadata": {
  "kernelspec": {
   "display_name": "Python 3",
   "language": "python",
   "name": "python3"
  },
  "language_info": {
   "codemirror_mode": {
    "name": "ipython",
    "version": 3
   },
   "file_extension": ".py",
   "mimetype": "text/x-python",
   "name": "python",
   "nbconvert_exporter": "python",
   "pygments_lexer": "ipython3",
   "version": "3.11.6"
  }
 },
 "nbformat": 4,
 "nbformat_minor": 2
}
