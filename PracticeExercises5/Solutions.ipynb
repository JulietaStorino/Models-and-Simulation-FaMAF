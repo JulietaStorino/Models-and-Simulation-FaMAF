{
 "cells": [
  {
   "cell_type": "markdown",
   "metadata": {},
   "source": [
    "# PRÁCTICO 5: GENERACIÓN DE VARIABLES ALEATORIAS CONTINUAS.\n",
    "## Ejercicio 1.\n",
    "Desarrolle un método para generar una variable aleatoria cuya densidad de probabilidad es\n",
    "$$ a) \\ f(x) = \\begin{cases}\\frac{x-2}2 & \\text{si } 2 \\leq x \\leq 3 \\\\ \\frac{2-x/3}2 & \\text{si } 3 \\leq x \\leq 6 \\\\ 0 & \\text{en otro caso} \\end{cases}$$\n",
    "$$ b) \\ f(x) = \\begin{cases} \\frac{6(x+3)}{35} & \\text{si } 0 \\leq x \\leq 1 \\\\ \\frac{6x^2}{35} & \\text{si } 1 \\leq x \\leq 2 \\\\ 0 & \\text{en otro caso} \\end{cases}, \\quad\n",
    "$$\n",
    "$$ c) \\ f(x) = \\begin{cases} \\frac{exp(4x)}{4} & \\text{si } -\\infty < x \\leq 0 \\\\ \\frac14 & \\text{si } 0 < x \\leq \\frac{15}4 \\\\ 0 & \\text{en otro caso} \\end{cases}$$\n",
    "\n",
    "\n",
    "\n",
    "\n",
    "\n",
    "\n",
    "\n",
    "\n",
    "\n",
    "\n",
    "\n",
    "\n",
    "\n",
    "\n"
   ]
  },
  {
   "cell_type": "code",
   "execution_count": 11,
   "metadata": {},
   "outputs": [
    {
     "name": "stdout",
     "output_type": "stream",
     "text": [
      "2.600144349278863\n",
      "5.512550904373222\n",
      "3.209252794339104\n",
      "4.254725832142899\n",
      "3.839801329312265\n",
      "3.225895199981124\n",
      "3.637181555576436\n",
      "4.724881643510523\n",
      "2.95952835698658\n",
      "2.532619042160767\n"
     ]
    }
   ],
   "source": [
    "from random import random\n",
    "from math import sqrt\n",
    "def a(): #Implementado con el método de la transformada inversa\n",
    "    U = random()\n",
    "    if U < .25:\n",
    "        return (1 + sqrt(U)) * 2\n",
    "    else:\n",
    "        return (1 - sqrt(1-(2+U)/3)) * 6\n",
    "\n",
    "for i in range(10):\n",
    "    print(a())"
   ]
  },
  {
   "cell_type": "code",
   "execution_count": 20,
   "metadata": {},
   "outputs": [
    {
     "name": "stdout",
     "output_type": "stream",
     "text": [
      "0.6149822014834743\n",
      "1.6374952969520438\n",
      "0.8571748153103904\n",
      "0.3081864075067342\n",
      "0.5393789413258196\n",
      "1.963837161755083\n",
      "0.4773172545190447\n",
      "1.2946779880441746\n",
      "1.38943138932295\n",
      "1.3002609070769735\n"
     ]
    }
   ],
   "source": [
    "from math import cbrt\n",
    "def b(): #Implementado con el método de la transformada inversa\n",
    "    U = random()\n",
    "    if U < .6:\n",
    "        return -3 + sqrt(9+U*35/3)\n",
    "    else:\n",
    "        return cbrt((U-3/5)*35/2+1)\n",
    "\n",
    "for i in range(10):\n",
    "    print(b())"
   ]
  },
  {
   "cell_type": "code",
   "execution_count": 23,
   "metadata": {},
   "outputs": [
    {
     "name": "stdout",
     "output_type": "stream",
     "text": [
      "0.510491347331254\n",
      "3.5762292245327543\n",
      "1.2132160995936436\n",
      "-0.18502407081698746\n",
      "0.17660404668735596\n",
      "1.4482563895014198\n",
      "2.921517097158268\n",
      "3.321502603695765\n",
      "0.4694891127021181\n",
      "1.0011284209305469\n"
     ]
    }
   ],
   "source": [
    "import numpy as np\n",
    "def c(): #Implementado con el método de la transformada inversa\n",
    "    U = random()\n",
    "    if U < .0625:\n",
    "        return np.log(16*U)/4\n",
    "    else:\n",
    "        return (U-1/16)*4\n",
    "\n",
    "for i in range(10):\n",
    "    print(c())"
   ]
  },
  {
   "cell_type": "markdown",
   "metadata": {},
   "source": [
    "## Ejercicio 2.\n",
    "1. Desarrolle métodos para generar las siguientes variables aleatorias\n",
    "    1. Distribución Pareto: $f(x) = ax^{−(a+1)}, \\quad 1 ≤ x < ∞, \\quad a > 0$\n",
    "    \n",
    "    2. Distribución Erlang: $f(x) = \\frac{x^{k-1} e^{−x/ \\mu}}{(k−1)!\\mu^k}, \\quad 0\\le x < ∞, \\quad \\mu > 0, \\quad k\\text{ entero}$\n",
    "    \n",
    "    3. Distribución de Weibull: $f(x) = \\frac{\\beta}{\\lambda} (\\frac{x}{\\lambda})^{\\beta-1} e^{-(x/\\lambda)^\\beta}, \\quad x \\le 0, \\quad \\lambda, \\beta > 0$\n",
    "    \n",
    "    * Ayuda: la distribución Pareto y la distribución Weibull tienen distribución acumulada $F$ con forma cerrada, por lo cual puede aplicarse el método de la transformada Inversa. La distribución de Erlang pertenece a la familia de las Gammas. Puede simularse por rechazo o como suma de exponenciales.\n",
    "\n",
    "2. Estime la media de cada variable con 10.000 repeticiones, usando los parámetros $a = 2, µ = 2, k = 2, λ = 1, β = 2$. Busque en la web los valores de las esperanzas para cada variable con estos parámetros (cuidado con las parametrizaciones) y compare los valores obtenidos."
   ]
  },
  {
   "cell_type": "code",
   "execution_count": null,
   "metadata": {},
   "outputs": [],
   "source": [
    "def Pareto(a): # Mediante el método de la transformada inversa\n",
    "    return (1-random()) ** (1/a)"
   ]
  },
  {
   "cell_type": "code",
   "execution_count": 13,
   "metadata": {},
   "outputs": [],
   "source": [
    "def VariableContinuaExponencial(lamda):\n",
    "    return -np.log(1-random())/lamda\n",
    "\n",
    "def Erlang(lamda,k):\n",
    "    while 1:\n",
    "        Y = VariableContinuaExponencial(lamda)\n",
    "        U = random()\n",
    "        aux1 = np.exp(k-1)\n",
    "        aux2 = ( (1/lamda-lamda) /k-1)**(k-1) * aux1\n",
    "        if U < Y**(k-1) * aux1**Y * aux2:\n",
    "            return Y"
   ]
  },
  {
   "cell_type": "code",
   "execution_count": null,
   "metadata": {},
   "outputs": [],
   "source": [
    "def Weibull(lamda,beta): # Mediante el método de la transformada inversa\n",
    "    return -np.log(-random()+1)**(1/beta) * lamda"
   ]
  }
 ],
 "metadata": {
  "kernelspec": {
   "display_name": "Python 3",
   "language": "python",
   "name": "python3"
  },
  "language_info": {
   "codemirror_mode": {
    "name": "ipython",
    "version": 3
   },
   "file_extension": ".py",
   "mimetype": "text/x-python",
   "name": "python",
   "nbconvert_exporter": "python",
   "pygments_lexer": "ipython3",
   "version": "3.11.6"
  }
 },
 "nbformat": 4,
 "nbformat_minor": 2
}
