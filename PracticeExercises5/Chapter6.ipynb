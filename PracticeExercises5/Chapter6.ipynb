{
 "cells": [
  {
   "cell_type": "markdown",
   "metadata": {},
   "source": [
    "https://famaf.aulavirtual.unc.edu.ar/pluginfile.php/35331/mod_resource/content/21/notas_mys.pdf"
   ]
  },
  {
   "cell_type": "markdown",
   "metadata": {},
   "source": [
    "# Generación de variables aleatorias continuas\n",
    "**Proposición**. Sea $U\\thicksim\\mathcal{U}(0, 1)$ una variable aleatoria. Para cualquier función de distribución continua $F$, monótona creciente en $F^{-1}(0, 1)$, la variable aleatoria $X$ definida por: $X = F^{-1}(U)$ tiene distribución $F$.\n",
    "\n",
    "## Metodo de la transformada inversa\n",
    "Notemos que $U$ toma valores en el intervalo $(0, 1)$, excluyendo los puntos 0 y 1. La propiedad de monotonía de $F$ asegura que $F$ tiene inversa en $(0, 1)$. Así, si $X = F^{−1} (U)$, su función de distribucion está dada por:\n",
    "$$\\\\F_X(x) = P(X \\leq x) = P(F^{−1}(U) \\leq x) \\\\$$\n",
    "Como $F$ es creciente, entonces $a\\le b$ si y sólo si $F(a)\\le F(b)$. En particular, los conjuntos $\\{F^{−1}(U) \\leq x\\}$ y $\\{U \\leq F(x)\\}$ son iguales. Por lo tanto:\n",
    "$$\\\\F_X(x) = P(F(F^{-1}(U)) \\leq F(x)) = P(U\\le F(x)) = F(x).\\\\$$\n",
    "Luego $X$ tiene distribución $F$."
   ]
  },
  {
   "cell_type": "code",
   "execution_count": 41,
   "metadata": {},
   "outputs": [],
   "source": [
    "from random import random\n",
    "\n",
    "def MetodoTransformadaInversa(G):\n",
    "    U = random()\n",
    "    return G(U) # G = F^−1"
   ]
  },
  {
   "cell_type": "markdown",
   "metadata": {},
   "source": [
    "#### Ejemplo.\n",
    "Sea \n",
    "$$f(x) = \\begin{cases} 1-\\frac x2 & \\text{si } 0\\le x\\le 2 \\\\ 0 & \\text{c.c.} \\end{cases}, \\quad F(x) = \\int_{-\\infty}^x f(t)dt=\\begin{cases}\n",
    "0 & \\text{si } x<0 \\\\\n",
    "x-\\frac{x^2}4 & \\text{si } 0\\le x\\le 2 \\\\\n",
    "1 & \\text{si} x>2\\end{cases}.$$\n",
    "\n",
    "Entonces, para $0 < u < 1$, \n",
    "$$F(x) = u \\Rightarrow \\frac{x^2}4 - x + u = 0 \\Rightarrow x = (1 \\pm \\sqrt{1 - u})\\times 2 \\Rightarrow F^{-1}(x)=(1 - \\sqrt{1 - u})\\times 2$$"
   ]
  },
  {
   "cell_type": "code",
   "execution_count": 42,
   "metadata": {},
   "outputs": [],
   "source": [
    "from math import sqrt\n",
    "def ejemplo():\n",
    "    U = random()\n",
    "    return (1-sqrt(1-U))*2"
   ]
  },
  {
   "cell_type": "markdown",
   "metadata": {},
   "source": [
    "### Simulación de una variable aleatoria exponencial\n",
    "Si $X$ es una variable aleatoria con distribución exponencial con parámetro $λ = 1$,  $X ∼ \\mathcal{E}(1)$, entonces su función de distribución acumulada está dada por:\n",
    "$$\\\\F(x) = \\begin{cases} 1 − e^{−x} & x > 0 \\\\ 0 & x ≤ 0 \\end{cases} \\\\$$\n",
    "Luego la inversa de $F$ sobre $u\\in(0,1)$ está dada por: $F^{−1}(u) = −\\ln(1 − u)$"
   ]
  },
  {
   "cell_type": "code",
   "execution_count": 43,
   "metadata": {},
   "outputs": [],
   "source": [
    "import numpy as np\n",
    "\n",
    "def VariableContinuaExponencial_1():\n",
    "    return -np.log(1-random())"
   ]
  },
  {
   "cell_type": "markdown",
   "metadata": {},
   "source": [
    "Notemos a demás que si $X$ es exponencial con parámetro $λ$, entonces $Y = \\frac1\\lambda X$ es exponencial con media $\\frac1\\lambda: Y ∼ \\mathcal{E}(\\lambda)$. Luego el método por transformada inversa para simular valores de $Y$ es"
   ]
  },
  {
   "cell_type": "code",
   "execution_count": 44,
   "metadata": {},
   "outputs": [],
   "source": [
    "def VariableContinuaExponencial(lamda):\n",
    "    return VariableContinuaExponencial_1()/lamda"
   ]
  },
  {
   "cell_type": "markdown",
   "metadata": {},
   "source": [
    "### Simulación de un Proceso de Poisson\n",
    "Sea $N(t)$, $t ≥ 0$, un proceso de Poisson homogéneo con intensidad λ. Entonces, se cumple que los tiempos de llegada entre eventos son variables aleatorias exponenciales de parámetro λ y el número de eventos en un intervalo de tiempo de longitud $t$ es una variable aleatoria Poisson de parámetro λ · $t$.\n",
    "\n",
    "En particular $N(1)$ es una variable aleatoria Poisson de media λ que indica el número de arribos hasta el tiempo $t = 1$, y los tiempos entre arribos en el intervalo [0, 1] son exponenciales de parámetro λ.\n",
    "\n",
    "Por lo tanto, si se simulan variables aleatorias exponenciales $X_1, X_2, . . .$ con $X_i ∼ \\mathcal{E}(1)$, para $i\\ge1$, hasta que $X_1 + X_2 + · · · + X_n \\le 1$ y $X_1 + X_2 + · · · + X_n+X_{n+1} > 1$, entonces $n$ representa el número de arribos hasta $t = 1$. Esto es:\n",
    "$$N(1) = \\max\\{n : X_1 + X_2 + · · · + X_n \\le 1\\}$$\n",
    "Si se simula cada exponencial $X_i$ con el método de la transformada inversa, tenemos que\n",
    "\n",
    "$$N(1) =$$\n",
    "$$\\max\\{n:X_1 + X_2 + · · · + X_n \\le 1\\} =$$ \n",
    "$$\\max\\{n:-\\frac{1}{\\lambda}(\\ln(1-U_1) + \\ln(1-U_2) + · · · + \\ln(1-U_n)) \\le 1\\} =$$ \n",
    "$$\\max\\{n:-\\frac{1}{\\lambda}\\ln((1-U_1)\\times(1-U_2) \\times · · · +\\times (1-U_n)) \\le 1\\} =$$ \n",
    "$$\\max\\{n:\\ln((1-U_1)\\times(1-U_2) \\times · · · +\\times (1-U_n)) \\ge -\\lambda\\} =$$ \n",
    "$$\\max\\{n:(1-U_1)\\times(1-U_2) \\times · · · +\\times (1-U_n) \\ge e^{-\\lambda}\\} =$$\n",
    "$$\\min\\{n : (1-U_1)\\times(1-U_2) \\times · · · +\\times (1-U_n) < e^{-\\lambda}\\}-1$$"
   ]
  },
  {
   "cell_type": "code",
   "execution_count": 45,
   "metadata": {},
   "outputs": [],
   "source": [
    "from random import random\n",
    "import numpy as np\n",
    "\n",
    "def VariableContinuaPoisson(lamda):\n",
    "    n = 0\n",
    "    Producto = 1 - random()\n",
    "    cota = np.exp(-lamda)\n",
    "    while Producto >= cota:\n",
    "        Producto *= (1 - random())\n",
    "        n += 1\n",
    "    return n"
   ]
  },
  {
   "cell_type": "markdown",
   "metadata": {},
   "source": [
    "### Simulación de una variable aleatoria Gamma\n",
    "Hemos visto anteriormente que la suma de $n$ variables aleatorias exponenciales e independientes, con parámetro λ, es una variable aleatoria con distribución $Gamma(n, λ^{−1})$.\n",
    "\n",
    "Esta propiedad nos permite dar un algoritmo de simulación de una variable Gamma a través de la generación de $n$ exponenciales independientes con el mismo parámetro. Notemos que si $U_1, U_2, . . . , U_n$ son valores de una variable uniforme $U_i ∼ \\mathcal{U}(0, 1)$, para $i = 1, 2, . . . , n$, entonces:\n",
    "\n",
    "$$X = -\\frac1\\lambda \\ln(1-U_1) -\\frac1\\lambda \\ln(1-U_2) - · · · -\\frac1\\lambda \\ln(1-U_n) =$$\n",
    "$$-(\\ln((1-U_1) \\times (1-U_2) \\times · · · \\times (1-U_n)))/\\lambda$$\n",
    "\n",
    "De esta forma, un algoritmo para la simulación de una variable $Gamma(n, λ^{−1})$ es como sigue:"
   ]
  },
  {
   "cell_type": "code",
   "execution_count": 46,
   "metadata": {},
   "outputs": [],
   "source": [
    "'''Simula una gamma con parámetros n y 1/lamda'''\n",
    "def VariableContinuaGamma(n,lamda):\n",
    "    U = 1\n",
    "    for _ in range(n):\n",
    "        U *= 1-random()\n",
    "    return -np.log(U)/lamda"
   ]
  },
  {
   "cell_type": "markdown",
   "metadata": {},
   "source": [
    "#### Ver generar 2 va?"
   ]
  },
  {
   "cell_type": "markdown",
   "metadata": {},
   "source": [
    "## Método de aceptación y rechazo\n",
    "Supongamos que se quiere generar una variable aleatoria $X$ con función de densidad $f$ y función de distribución acumulada $F$. Supongamos también que se tiene un método para generar otra variable $Y$, con densidad $g$, tal que $\\exist c>1$, y\n",
    "$$f(y)\\le cg(y) \\quad \\forall y ∈ \\R\\quad, \\Rightarrow \\quad \\frac{f(y)}{g(y)} ≤ c, \\quad \\forall y ∈ \\R, \\quad f(y) \\ne 0.$$\n",
    "El metodo de rechazo para generar $X$ a partir de $Y$ tiene el siguiente algoritmo,"
   ]
  },
  {
   "cell_type": "code",
   "execution_count": 47,
   "metadata": {},
   "outputs": [],
   "source": [
    "def Aceptacion_Rechazo_X(SimularY,f,g,c):\n",
    "    while 1:\n",
    "        Y = SimularY()\n",
    "        U = random()\n",
    "        if U < f(Y) / (c * g(Y)):\n",
    "            return Y"
   ]
  },
  {
   "cell_type": "markdown",
   "metadata": {},
   "source": [
    "De manera analoga al caso del método para simular variables aleatorias discretas, se puede \n",
    "probar que:\n",
    "1. La variable aleatoria generada por el algoritmo Aceptacion Rechazo $X$ tiene densidad $f$.\n",
    "2. El número de iteraciones del algoritmo es una variable aleatoria geométrica con media  $c$.\n",
    "Entonces, para cada variable $X$ que se desee generar rechazando contra una variable $Y$, es necesario determinar una cota $c$ para el cociente $\\frac{f(x)}{g(x)}$, válida para todo $x ∈ \\R$. Para determinar este valor es útil recordar algunos resultados del Análisis Matemático. En primer lugar, considerar la función\n",
    "$$ h(x) = \\frac{f(x)}{g(x)},\\quad x : f(x) \\ne 0,$$\n",
    "y para esta funcion determinar:\n",
    "1. Puntos crıticos: Esto es, $f'(x) = 0$ o $f'(x)$ no existe.\n",
    "2. Analizar cuales de estos puntos corresponden a máximos locales. \n",
    "3. Evaluar $h$ en los extremos de su dominio, si es acotado, o los límites correspondientes.\n",
    "4. Elegir una cota $a$ partir de los valores obtenidos en 1. y 2."
   ]
  },
  {
   "cell_type": "markdown",
   "metadata": {},
   "source": [
    "#### Ejemplo.\n",
    "Sea $X$ con densidad $f(x)=20x(1-x)^3\\mathbb{I}_{[0,1]}(x)$. Utilizar el método de la transformada inversa para generar valores de $X$ resultaría muy complicado, por lo que se recurre al método de aceptación y rechazo.\n",
    "\n",
    "Elegimos $Y\\thicksim\\mathcal{U}(0, 1)$, con función de densidad $g(y)=1\\mathbb{I}_{[0,1]}(x)$, y debemos buscar una constante $c$ tal que $h(x)=\\frac{f(x)}{g(x)}\\le c$, $\\forall x\\in[0,1]$. Lo que estamos buscando es una cota mínima para este cociente, que es lo mismo que buscar el máximo, o supremo de la función $f(x)/g(x)$ en el intervalo $[0,1]$. Desarrollamos la función $h(x)$:\n",
    "\n",
    "$$h(x)=\\frac{f(x)}{g(x)}=\\frac{20x(1-x)^3}{1}=20x(1-x)^3\\quad x\\in[0,1].$$\n",
    "\n",
    "Luego $h$ alcanza un máximo en intervalo cerrado por ser contínuo, y lo hace o en los extremos o en los puntos críticos. Derivamos $h(x)$ e igualamos a 0 para encontrar los puntos críticos.\n",
    "\n",
    "$$h'(x)=20(1-4x)(1-x)^2=0\\Rightarrow x=\\frac14, 1.$$\n",
    "\n",
    "De esta manera, el $c$ óptimo es $h(1/4)\\approx 2,109$, y el algoritmo para generar valores de $X$ es:"
   ]
  },
  {
   "cell_type": "code",
   "execution_count": 32,
   "metadata": {},
   "outputs": [],
   "source": [
    "def ejemplo():\n",
    "    while 1:\n",
    "        Y = random()\n",
    "        U = random()\n",
    "        if U < 9.48*Y*(1-Y)**3:\n",
    "            return Y"
   ]
  },
  {
   "cell_type": "markdown",
   "metadata": {},
   "source": [
    "## Simulación de variables aleatorias normales\n",
    "Dado que $Z\\thicksim \\mathcal{N}(0, 1) \\Rightarrow X = μ + σZ\\thicksim \\mathcal{N}(μ, σ^2),$\n",
    "es suficiente generar variables aleatorias normales estándar y luego transformarlas.\n",
    "\n",
    "### Por composición\n",
    "\n",
    "La función de distribución acumulada de $z$ es:\n",
    "$$F_z(x) = \\frac1{\\sqrt{2\\pi}}\\int_{-\\infty}^xe^{-\\frac{t^2}2}dt$$\n",
    "la cual no tiene una expresion cerrada y por lo tanto no se conoce una forma explícita de su inversa, por lo que no se puede utilizar el método de la transformada inversa.\n",
    "\n",
    "Una observación es que la función de densidad de $Z$ es par, por lo cual puede intentarse generar $|Z|$ y usar luego un método de composición. Más precisamete, consideramos $U \\thicksim \\mathcal{U}(0, 1)$ y $X$ la variable aleatoria dada por:\n",
    "$$X = \\begin{cases} |Z| & U ≤ 0.5 \\\\ -|Z| & U > 0.5 \\end{cases} $$\n",
    "Entonces se cumple que:\n",
    "$$P(X ≤ a)\n",
    "= P(U \\le 0.5, |Z|\\le a ) + P(U > 0.5, -|Z|\\le a )\\\\\n",
    "= \\frac12P(|Z|\\le a)+\\frac12P(-|Z|\\le a)$$\n",
    "\n",
    "* Caso $a\\ge0$:\n",
    "$$P(X ≤ a)=\n",
    "\\frac12P(-a \\le Z \\le a)+\\frac121=\n",
    "\\frac122P(0 \\le Z \\le a)+\\frac12=$$\n",
    "$$P(Z \\le a)-P(Z \\ge 0)\\frac12= P(Z \\le a)=\n",
    "P(Z \\le a)-\\frac12+\\frac12=$$\n",
    "\n",
    "* Caso $a<0$:\n",
    "$$P(X ≤ a)=\n",
    "\\frac120+\\frac12P(|Z|\\le -a)=\n",
    "\\frac122P(Z\\le a)=\n",
    "P(Z\\le a)$$\n",
    "\n",
    "Demostramos que $P(X\\le a) = P(Z\\le a)$, es decir que $X$ tiene distribución normal. Así $F_Z(x)=0.5\\times F_{|Z|}(x)+0.5\\times F_{-|Z|}(x)$, y es necesario entonces un método para generar $|Z|$. Su densidad está dada por:\n",
    "$$f_{|Z|}(x) = \\frac2{\\sqrt{2\\pi}}e^{-\\frac{x^2}2}1_{x\\ge0}$$\n",
    "\n",
    "Una posibilidad es utilizar el método de rechazo con una exponencial, por ejemplo, $X=\\mathcal{E}(1)$. Denotamos $g$ a la densidad de $X$. Así, debemos encontrar una cota para:\n",
    "$$\\frac{f_{|Z|}(x)}{g(x)} = \\frac2{\\sqrt{2\\pi}}e^{-\\frac{x^2}2+x}$$\n",
    "Esta función alcanza un máximo en el punto en que el exponente es máximo, lo cual ocurre en $x = 1$. El valor máximo y por consiguiente la cota mínima $c$ esta dada por:\n",
    "$$c = \\sqrt{\\frac{2e}{\\pi}}\\approx1.32 \\quad\\Rightarrow\\quad \\frac{f(x)}{cg(x)}=e^{-\\frac{(x-1)^2}{2}}$$"
   ]
  },
  {
   "cell_type": "code",
   "execution_count": 54,
   "metadata": {},
   "outputs": [],
   "source": [
    "def ZAbsoluto():\n",
    "    while 1:\n",
    "        X = -np.log(1-random())\n",
    "        U = random()\n",
    "        if U < np.exp(-(X-1)**2/2):\n",
    "            return X\n",
    "\n",
    "def VariableContinuaNormal_Composicion(sigma,mu):\n",
    "    Zabs = ZAbsoluto()\n",
    "    if random() > .5:\n",
    "        return (-Zabs)*sigma+mu\n",
    "    else:\n",
    "        return (Zabs)*sigma+mu\n"
   ]
  },
  {
   "cell_type": "markdown",
   "metadata": {},
   "source": [
    "### Método polar\n",
    "Otro método eficiente para generar variables normales es el método polar. El nombre se refiere al uso de coordenadas polares para referenciar puntos del plano:\n",
    "$$x = r cos θ,\\quad y = r sen θ,\\quad r ≥ 0,\\quad  0 ≤ θ < 2π.$$\n",
    "Consideramos dos variables aleatorias $X$ e $Y$, normales estándar, independientes. Dado que toman cualquier valor real, entonces el par $(X, Y)$ denota a algún punto del plano. Las coordenadas polares correspondientes a este punto, $R$ y $Θ$, verifican:\n",
    "$$R^2 = X^2 + Y^2,\\quad Θ = arctan \\frac{Y}{X}.$$\n",
    "El objetivo es analizar la distribución de las variables $R^2$ y $Θ$ y simular estas variables para obtener dos normales estándar.\n",
    "\n",
    "La función de densidad conjunta de $X$ e $Y$ está dada por:\n",
    "$$f_{X,Y} (x, y) = f_X(x) · f_Y (y) = \\frac1{2π}e^{−(x^2+y^2)/2}.$$\n",
    "\n",
    "La transformación de coordenadas $(d, θ)$ a $(x, y)$ esta dada por: $d = x^2 + y^2,\\quad θ = arctan\\frac{y}{x}$,y por lo tanto la matriz jacobiana de esta transformación es:\n",
    "$$\\begin{pmatrix}\n",
    "\\frac{\\partial}{\\partial x}(x^2+y^2) &\n",
    "\\frac{\\partial}{\\partial y}(x^2+y^2) \\\\\n",
    "\\frac{\\partial}{\\partial x}\\arctan\\frac{y}{x} &\n",
    "\\frac{\\partial}{\\partial x}\\arctan\\frac{y}{x}\n",
    "\\end{pmatrix}\n",
    "=\n",
    "\\begin{pmatrix}\n",
    "2x & 2y \\\\ -\\frac{y}{x^2+y^2} & \\frac{x}{x^2+y^2} \\end{pmatrix}$$\n",
    "\n",
    "con determinante jacobiano igual a 2. Por lo tanto, la densidad conjunta de $R^2$ y $Θ$ satisface:\n",
    "$$f_{R^2,Θ}(d, θ) = \\frac12 f_{X,Y} (x, y) = \\frac1{4π}e^{−d/2}.$$\n",
    "\n",
    "Así, observando que $θ$ toma valores en $[0, 2π)$ y $d > 0$, formalmente resulta:\n",
    "$$f_{R^2,Θ}(d, θ) = \\frac1{2π}\\mathbb{I}_{[0,2π)}(θ)\\frac12e^{−d/2}\n",
    "e^{−d/2}\\mathbb{I}_{[0,∞)}(d).$$\n",
    "Donde $\\frac1{2π}\\mathbb{I}_{[0,2π)}(θ)$ es la función de densidad de $θ\\thicksim\\mathcal{U}(0,2\\pi)$, y $\\frac12e^{−d/2}\\mathbb{I}_{[0,∞)}(d)$ es la función de densidad de $R^2\\thicksim\\mathcal{E}(1/2)$.\n",
    "\n",
    "Es decir, $R^2$ y $Θ$ resultan ser variables aleatorias independientes, con distribución exponencial $\\mathcal{E}(1/2)$ y uniforme $\\mathcal{U}(0, 2π)$, respectivamente. El Método polar genera dos variables normales estándar, y el algoritmo es como sigue."
   ]
  },
  {
   "cell_type": "code",
   "execution_count": 53,
   "metadata": {},
   "outputs": [],
   "source": [
    "from math import sin, cos\n",
    "def VariableContinuaNormal_Polar(sigma,mu):\n",
    "    Rcuadrado = -2 * np.log(1 - random())\n",
    "    Theta= 2 * np.pi * random()\n",
    "    X= sqrt(Rcuadrado) * cos(Theta)\n",
    "    Y= sqrt(Rcuadrado) * sin(Theta)\n",
    "    return (X * sigma + mu, Y * sigma + mu)"
   ]
  },
  {
   "cell_type": "markdown",
   "metadata": {},
   "source": [
    "### Método Box-Muller\n",
    "Las transformaciones:\n",
    "$$\\begin{cases} X = \\sqrt{-2\\log U_1} cos(2\\pi U_2) \\\\ Y = \\sqrt{-2\\log U_1} sin(2\\pi U_2) \\end{cases}$$\n",
    "se denominan transformaciones de Box-Muller. Una desventaja de estas transformaciones es que requieren el cálculo de dos funciones trigonométricas: seno y coseno. Para mejorar este paso, notemos que si generamos uniformemente puntos en el círculo unitario, y $(V_1, V_2)$ son las coordenadas de un punto aleatorio en este círculo, entonces para cada $r, 0 < r < 1$ se cumple que:\n",
    "\n",
    "$$P(V^2_1 + V^2_2 ≤ r) = P(\\sqrt{V^2_1 + V^2_2} ≤ \\sqrt{r}) = \\frac{πr}π,$$\n",
    "\n",
    "y para $α$, $0 ≤ α < 2π$,\n",
    "\n",
    "$$P(0 < \\arctan\\frac{V_2}{V_1} < α) = \\frac{α/2}{π} = \\frac1{2π}\\alpha.$$\n",
    "\n",
    "Así, las variables aleatorias $S^2 = V^2_1 + V^2_2$ y $Θ = arctan\\frac{V_2}{V_1}$ resultan uniformemente distribuidas en $(0, 1)$ y $(0, 2π)$ respectivamente. Además por propiedades geométricas no es difícil ver que son independientes:\n",
    "\n",
    "$$P(S^2 ≤ r, Θ < α) = r ·\\fracα{2π}. $$\n",
    "Así tenemos que:\n",
    "$$cos Θ = \\frac{V_1}{\\sqrt{V^2_1 + V^2_2}},\\quad sin Θ = \\frac{V_2}{\\sqrt{V^2_1 + V^2_2}}= \\frac{V_2}{\\sqrt{S^2}}.$$\n",
    "En resumen, para generar $cos Θ$ y $sen Θ$ debemos:\n",
    "1. Generar un punto aleatorio $(V1, V2)$ del círculo unitario.\n",
    "2. Calcular $cos Θ$ y $sen Θ$ usando.\n",
    "La generación de puntos aleatorios en el círculo se reduce a generar pares de puntos $(V1, V2)$ en el cuadrado $[−1, 1]×[−1, 1]$ hasta obtener uno en el círculo unitario. Las transformaciones de Box-Muller se reescriben entonces como:\n",
    "\n",
    "$$ X = \\sqrt{-2\\log U} \\frac{V1}{\\sqrt{V^2_1 + V^2_2}},\\quad Y = \\sqrt{-2\\log U} \\frac{V2}{\\sqrt{V^2_1 + V^2_2}}$$\n",
    "\n",
    "Ahora, como $S=V^2_1 + V^2_2$ es uniforme en $(0, 1)$ y es independiente de $Θ$, resulta:\n",
    "$$X = \\sqrt{-2\\log U} \\frac{V1}{\\sqrt{U}}=V_1 \\sqrt{-2\\log U}$$\n",
    "$$Y = \\sqrt{-2\\log U} \\frac{V2}{\\sqrt{U}}=V_2 \\sqrt\\frac{-2\\log U}U$$\n",
    "\n",
    "Finalmente, el método polar con las transformaciones para simular dos variables normales resulta:"
   ]
  },
  {
   "cell_type": "code",
   "execution_count": 58,
   "metadata": {},
   "outputs": [],
   "source": [
    "def VariableContinuaNormal_BoxMuller(mu,sigma):\n",
    "    #Generar un punto aleatorio en el cırculo unitario.\n",
    "    while True:\n",
    "        V1, V2 = 2 * random()-1, 2 * random()-1\n",
    "        if V1 ** 2 + V2 ** 2 <= 1:\n",
    "            S = V1 ** 2 + V2 ** 2\n",
    "            X = V1 * sqrt(-2 * np.log(S) / S)\n",
    "            Y = V2 * sqrt(-2 * np.log(S) / S)\n",
    "            return ( X * sigma + mu, Y * sigma + mu)"
   ]
  }
 ],
 "metadata": {
  "kernelspec": {
   "display_name": "Python 3",
   "language": "python",
   "name": "python3"
  },
  "language_info": {
   "codemirror_mode": {
    "name": "ipython",
    "version": 3
   },
   "file_extension": ".py",
   "mimetype": "text/x-python",
   "name": "python",
   "nbconvert_exporter": "python",
   "pygments_lexer": "ipython3",
   "version": "3.11.6"
  }
 },
 "nbformat": 4,
 "nbformat_minor": 2
}
