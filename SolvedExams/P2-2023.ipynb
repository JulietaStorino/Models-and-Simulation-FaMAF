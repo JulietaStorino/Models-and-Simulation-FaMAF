{
 "cells": [
  {
   "cell_type": "markdown",
   "metadata": {},
   "source": [
    "# Parcial 2 - 2023\n",
    "## Consignas\n",
    "https://github.com/ExamenesViejos-FaMAF-Computacion/ExamenesViejos_ModelosYSimulacion_FaMAF/blob/main/Parcial%202%202023-05-11.pdf\n",
    "## Ejercicio 1.\n",
    "a.\n",
    "\n",
    "Como se repite 2, supondré que el valor de la última línea es 4, aunque podría no serlo. \n",
    "\n",
    "$\\\\P(X=0)=P(U<0.3,V<0.8)=P(U\\le0.3,V\\le0.8)=P(U\\le0.3)P(V\\le0.8)=0.3\\times0.8=0.24$\n",
    "\n",
    "$\\\\P(X=2)=P(U<0.3,V\\ge0.8)=P(U\\le0.3)(1-P(V>0.8))=0.3\\times(1-0.8)=0.06$\n",
    "\n",
    "$\\\\P(X=1)=P(0.3\\le U<0.75,V<0.2)=P(0.3\\le U<0.75)P(V<0.2)=(P(U<0.75)-P(U<0.3))P(V<0.2)=(0.75-0.3)\\times0.2=0.09$\n",
    "\n",
    "$\\\\P(X=3)=P(0.3\\le U<0.75,V\\ge0.2)=P(0.3\\le U<0.75)(1-P(V<0.2))=(P(U<0.75)-P(U<0.3))(1-P(V<0.2))=(0.75-0.3)\\times(1-0.2)=0.36$\n",
    "\n",
    "$\\\\P(X=4)=P(U\\ge0.75)=1-P(U<0.75)=1-0.75=0.25$\n",
    "\n",
    "b.\n",
    "\n",
    "Para generar el método de la transformada inversa, se debe calcular la función de distribución acumulada de $X$.\n",
    "\n",
    "$P(X\\le 0) = 0.24,$\n",
    "\n",
    "$P(X\\le 1) = 0.24 + 0.09 = 0.33,$\n",
    "\n",
    "$P(X\\le 2) = 0.33 + 0.06 = 0.39,$\n",
    "\n",
    "$P(X\\le 3) = 0.39 + 0.36 = 0.75,$\n",
    "\n",
    "$P(X\\le 4) = 0.75 + 0.25 = 1.$\n",
    "\n",
    "Luego, si U es una variable aleatoria uniforme en (0,1), entonces podemos definir la variable aleatoria X como:\n",
    "\n",
    "Si $U\\le 0.24$, entonces $X=0$,\n",
    "\n",
    "Si $0.24<U\\le 0.33$, entonces $X=1$,\n",
    "\n",
    "Si $0.33<U\\le 0.39$, entonces $X=2$,\n",
    "\n",
    "Si $0.39<U\\le 0.75$, entonces $X=3$,\n",
    "\n",
    "Si $0.75<U\\le 1$, entonces $X=4$.\n",
    "\n",
    "c.\n"
   ]
  },
  {
   "cell_type": "code",
   "execution_count": 64,
   "metadata": {},
   "outputs": [
    {
     "name": "stdout",
     "output_type": "stream",
     "text": [
      "4\n"
     ]
    }
   ],
   "source": [
    "from random import random\n",
    "\n",
    "def ejercicio1():\n",
    "    U = random()\n",
    "    if U <= .24: return 0\n",
    "    elif U <= .33: return 1\n",
    "    elif U <= .39: return 2\n",
    "    elif U <= .75: return 3\n",
    "    else: return 4\n",
    "\n",
    "print(ejercicio1())"
   ]
  },
  {
   "cell_type": "markdown",
   "metadata": {},
   "source": [
    "## Ejercicio 2\n",
    "\n",
    "a.\n",
    "\n",
    "En primer lugar hay que calcular la función de distribución acumulada de $X$.\n",
    "\n",
    "$$F_{[0,2]}(x)=\\int_{0}^{x}\\frac{1}{4}ds=\\frac{x}{4}$$\n",
    "\n",
    "$$F_{[2,\\infty)}(x) = \\frac{2}{4}+\\int_{2}^{x}\\frac{1}{s^2}ds$$\n",
    "$$=0.5+\\int_{2}^{x}s^{-2}ds=0.5+\\frac{x^{-1}}{-1}-\\frac{2^{-1}}{-1}$$\n",
    "$$=0.5-\\frac{1}{x}+0.5=1-\\frac{1}{x}$$\n",
    "\n",
    "Luego, si U es una variable aleatoria uniforme en (0,1), entonces calculamos la inversa de la función de distribución acumulada de $X$, para obtener la variable aleatoria X.\n",
    "* Si $U\\le 0.5$,\n",
    "$$F_{[0,2]}'(X)=\\frac{X}{4}=U \\Rightarrow X=4U;$$\n",
    "* Si $0.5<U$,\n",
    "$$F_{[2,\\infty)}'(X)=1-\\frac{1}{X}=U \\Rightarrow X=\\frac{1}{1-U}.$$\n",
    "\n",
    "b."
   ]
  },
  {
   "cell_type": "code",
   "execution_count": 65,
   "metadata": {},
   "outputs": [
    {
     "name": "stdout",
     "output_type": "stream",
     "text": [
      "15.706072384009065\n"
     ]
    }
   ],
   "source": [
    "from random import random\n",
    "\n",
    "def ejercicio2():\n",
    "    U = random()\n",
    "    if U <= .5: return 4*U\n",
    "    else: return 1/(1-U)\n",
    "\n",
    "estimacion = sum(ejercicio2() for _ in range(10000))/10000\n",
    "print(estimacion)"
   ]
  },
  {
   "cell_type": "markdown",
   "metadata": {},
   "source": [
    "c.\n",
    "\n",
    "No es factible utilizar el método de aceptación y rechazo utilizando una exponencial ya que, como la función de densidad de probabilidad de $X$ no es contiene exponencial, al realizar la división de las funciones de densidad de probabilidad, no se obtiene una mejora con respecto a la función de $X$, en cambio esta se complejizaría."
   ]
  },
  {
   "cell_type": "markdown",
   "metadata": {},
   "source": [
    "## Ejercicio 3\n",
    "\n",
    "1. \n",
    "Para aplicar el método de aceptación y rechazo, se debe hallar la constante $c$ tal que $f(x)/g(x) \\le c$ para todo $x$ en el soporte de $f(x)$. Para eso, observamos que\n",
    "$$P(X=x)=P(Y=x|Y\\le 20)=\\frac{P(Y=x,Y\\le 20)}{P(Y\\le 20)} =\n",
    "\\begin{cases} \n",
    "\\frac{P(Y=x)}{P(Y\\le 20)} & \\text{si } x\\le 20, \\\\\n",
    "0 & \\text{si } x>20. \\end{cases}$$\n",
    "\n",
    "Es decir, $X$ toma valores en el conjunto $\\{1,2,...,20\\}$, y para estos valores,\n",
    "\n",
    "$$\\frac{P(X=x_i)}{P(Y=x_i)}=\\frac{\\frac{P(Y=x_i)}{P(Y\\le 20)}}{P(Y=x_i)}=\\frac1{P(Y\\le 20)}=\\frac{1}{0.6\\sum_{i=1}^{20} 0.4^{i-1}}=c.$$\n",
    "\n",
    "Y, Definimos $U \\thicksim U(0,1)$ con el cual compraremos $f(x_i)/(c \\times g(x_i))$.\n",
    "\n",
    "$$\\frac{f(x_i)}{c \\times g(x_i)} = \\frac{\\frac{P(Y=x_i)}{P(Y\\le 20)}}{c \\times P(Y=x_i)} = \\frac{P(Y=x_i)}{P(Y\\le 20)\\times c \\times P(Y=x_i)}$$\n",
    "$$=\\frac1{P(Y\\le 20)\\times c} = \\frac1{P(Y\\le 20)\\times \\frac1{P(Y\\le 20)}}=1$$\n",
    "\n",
    "Pero, siempre se cumple que $f(x_i)/(c \\times g(x_i)) \\le U$.\n",
    "\n",
    "2. "
   ]
  },
  {
   "cell_type": "code",
   "execution_count": 66,
   "metadata": {},
   "outputs": [
    {
     "name": "stdout",
     "output_type": "stream",
     "text": [
      "2\n"
     ]
    }
   ],
   "source": [
    "import numpy as np\n",
    "from random import random\n",
    "\n",
    "def Geometrica(p):\n",
    "    return (int(np.log(1-random())/np.log(1-p)) + 1)\n",
    "\n",
    "def ejercicio3():\n",
    "    while 1:\n",
    "        Y = Geometrica(.6)\n",
    "        if Y <= 20:\n",
    "            return Y\n",
    "\n",
    "print(ejercicio3())"
   ]
  },
  {
   "cell_type": "markdown",
   "metadata": {},
   "source": [
    "## Ejercicio 4\n",
    "Para $i=1,2,...,1000$, definimos las siguientes variables aleatorias:\n",
    "\n",
    "* $B_i \\thicksim Bernoulli(0.05)$ como la variable aleatoria que toma el valor 1 si el i-ésimo cliente presenta un reclamo en el próximo mes y 0 en caso contrario;\n",
    "* $M_i \\thicksim \\mathcal{E}(0.00125)$ como la variable aleatoria que representa al monto de un reclamo.\n",
    "* $B \\thicksim Binomial(1000,0.05)$ como la variable aleatoria que representa la cantidad de clientes que presentan un reclamo en el próximo mes;\n",
    "\n",
    "Luego, debemos generar una variable aleatoria que represente el monto total de los reclamos en el próximo mes, es decir, $B$."
   ]
  },
  {
   "cell_type": "code",
   "execution_count": 67,
   "metadata": {},
   "outputs": [
    {
     "name": "stdout",
     "output_type": "stream",
     "text": [
      "0.0003\n"
     ]
    }
   ],
   "source": [
    "import numpy as np\n",
    "from random import random\n",
    "\n",
    "def Bernoulli(p):\n",
    "    U=random()\n",
    "    if U < p: return 1\n",
    "    else:     return 0\n",
    "\n",
    "def Binomial(n,p):\n",
    "    return sum(Bernoulli(p) for _ in range(n))\n",
    "\n",
    "def Exponencial(lamda):\n",
    "    return -np.log(1-random())/lamda\n",
    "\n",
    "def ejercicio4():\n",
    "    B = Binomial(1000, .05)\n",
    "\n",
    "    estimacion = 0\n",
    "    for _ in range(10000):\n",
    "        suma = sum(Exponencial(.00125) for _ in range(B))\n",
    "        estimacion += suma > 50000\n",
    "    \n",
    "    return estimacion/10000\n",
    "\n",
    "print(ejercicio4())"
   ]
  }
 ],
 "metadata": {
  "kernelspec": {
   "display_name": "Python 3",
   "language": "python",
   "name": "python3"
  },
  "language_info": {
   "codemirror_mode": {
    "name": "ipython",
    "version": 3
   },
   "file_extension": ".py",
   "mimetype": "text/x-python",
   "name": "python",
   "nbconvert_exporter": "python",
   "pygments_lexer": "ipython3",
   "version": "3.11.6"
  }
 },
 "nbformat": 4,
 "nbformat_minor": 2
}
