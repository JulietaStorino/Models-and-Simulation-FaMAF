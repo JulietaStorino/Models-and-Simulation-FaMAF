{
 "cells": [
  {
   "cell_type": "markdown",
   "metadata": {},
   "source": [
    "# Parcialito 2 - 2023\n",
    "Sea $X$ una variable aleatoria que toma los valores del 0 al 4 con probabilidades:\n",
    "$$p_0=0.05, p_1=0.1, p_2=0.2, p_3=0.3, p_4=0.35$$\n",
    "1. Escribir una función ejercicio1a() en python que genere valores de la variable $X$ usando el método de aceptación y rechazo, rechazando con una variable uniforme discreta, y escribir una función ejercicio1b(N) que estime su valor esperado con $N$ simulaciones usando la función ejercicio1a(). Imprimir el valor de ejercicio1b(10000).\n",
    "2. Escribir una función ejercicio2a() en python que genere valores de la variable $X$ usando el método de la transformada inversa mejorada, y escribir una función ejercicio2b(N) que estime su valor esperado con $N$ simulaciones usando la función ejercicio2a(). Imprimir el valor de ejercicio2b(10000).\n",
    "3. Escribir un código ejercicio3a() que calcule e imprima el valor esperado exacto de la variable aletaria $X$.\n",
    "\n",
    "## Desarrollo.\n",
    "1. Para el método de aceptación y rechazo, tomo la variable aleatoria $Y\\thicksim \\mathcal{U}{0,4}$ con probabilidad $q_i=\\frac15$ para $i=0,1,2,3,4$, y así,\n",
    "$$\\frac{P(X=i)}{P(Y=i)}=\\frac{p_i}{q_i}= \\frac{p_i}{\\frac15}\\le \\frac{p_4}{\\frac15}=\\frac{0.35}{\\frac15}=1.75=c$$\n",
    "\n",
    "2. Para el método de la transformada inversa, tomo la variable aleatoria $U\\thicksim \\mathcal{U}[0,1]$, y defino\n",
    "$$X=\\begin{cases}4 & \\text{si } U<0.35\\\\3 & \\text{si } U<0.65\\\\2 & \\text{si } U<0.85\\\\1 & \\text{si } U<0.95\\\\0 & \\text{c.c.}.\\end{cases}$$\n",
    "\n",
    "## Código."
   ]
  },
  {
   "cell_type": "code",
   "execution_count": 9,
   "metadata": {},
   "outputs": [
    {
     "name": "stdout",
     "output_type": "stream",
     "text": [
      "1.11\n"
     ]
    }
   ],
   "source": [
    "from random import random\n",
    "def ejercicio1a():\n",
    "    probabilidades = [.05, .1, .2, .3, .35]\n",
    "    while True:\n",
    "        Y = int(random()*4)\n",
    "        U = random()\n",
    "        if U < .2/(1.75 * probabilidades[Y]): # c = 1.75\n",
    "            return Y\n",
    "\n",
    "def ejercicio1b(N):\n",
    "    simulacion = 0\n",
    "    for _ in range(N):\n",
    "        simulacion += ejercicio1a()\n",
    "    return simulacion / N\n",
    "\n",
    "print(ejercicio1b(10000))"
   ]
  },
  {
   "cell_type": "code",
   "execution_count": 13,
   "metadata": {},
   "outputs": [
    {
     "name": "stdout",
     "output_type": "stream",
     "text": [
      "2.809\n"
     ]
    }
   ],
   "source": [
    "def ejercicio2a():\n",
    "    U = random()\n",
    "    if U < .35:   return 4\n",
    "    elif U < .65: return 3\n",
    "    elif U < .85: return 2\n",
    "    elif U < .95: return 1\n",
    "    else:         return 0\n",
    "\n",
    "def ejercicio2b(N):\n",
    "    simulacion = 0\n",
    "    for _ in range(N):\n",
    "        simulacion += ejercicio2a()\n",
    "    return simulacion / N\n",
    "\n",
    "print(ejercicio2b(10000))"
   ]
  },
  {
   "cell_type": "code",
   "execution_count": 11,
   "metadata": {},
   "outputs": [
    {
     "name": "stdout",
     "output_type": "stream",
     "text": [
      "0.5599999999999999\n"
     ]
    }
   ],
   "source": [
    "def ejercicio3a():\n",
    "    probabilidades = [.05, .1, .2, .3, .35]\n",
    "    value = 0\n",
    "    for i in range(5):\n",
    "        value += i * probabilidades[i]\n",
    "    return value / 5\n",
    "\n",
    "print(ejercicio3a())"
   ]
  }
 ],
 "metadata": {
  "kernelspec": {
   "display_name": "Python 3",
   "language": "python",
   "name": "python3"
  },
  "language_info": {
   "codemirror_mode": {
    "name": "ipython",
    "version": 3
   },
   "file_extension": ".py",
   "mimetype": "text/x-python",
   "name": "python",
   "nbconvert_exporter": "python",
   "pygments_lexer": "ipython3",
   "version": "3.11.6"
  }
 },
 "nbformat": 4,
 "nbformat_minor": 2
}
