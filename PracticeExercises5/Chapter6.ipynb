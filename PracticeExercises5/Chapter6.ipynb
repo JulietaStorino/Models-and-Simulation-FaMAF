{
 "cells": [
  {
   "cell_type": "markdown",
   "metadata": {},
   "source": [
    "# Generación de variables aleatorias continuas\n",
    "**Proposición**. Sea $U\\thicksim\\mathcal{U}(0, 1)$ una variable aleatoria. Para cualquier función de distribución continua $F$, monótona creciente en $F^{-1}(0, 1)$, la variable aleatoria $X$ definida por: $X = F^{-1}(U)$ tiene distribución $F$.\n",
    "\n",
    "## Metodo de la transformada inversa\n",
    "Notemos que $U$ toma valores en el intervalo $(0, 1)$, excluyendo los puntos 0 y 1. La propiedad de monotonía de $F$ asegura que $F$ tiene inversa en $(0, 1)$. Así, si $X = F^{−1} (U)$, su función de distribucion está dada por:\n",
    "$$\\\\F_X(x) = P(X \\leq x) = P(F^{−1}(U) \\leq x) \\\\$$\n",
    "Como $F$ es creciente, entonces $a\\le b$ si y sólo si $F(a)\\le F(b)$. En particular, los conjuntos $\\{F^{−1}(U) \\leq x\\}$ y $\\{U \\leq F(x)\\}$ son iguales. Por lo tanto:\n",
    "$$\\\\F_X(x) = P(F(F^{-1}(U)) \\leq F(x)) = P(U\\le F(x)) = F(x).\\\\$$\n",
    "Luego $X$ tiene distribución $F$."
   ]
  },
  {
   "cell_type": "code",
   "execution_count": null,
   "metadata": {},
   "outputs": [],
   "source": [
    "from random import random\n",
    "\n",
    "def MetodoTransformadaInversa(G):\n",
    "    U = random()\n",
    "    return G(U) # G = F^−1"
   ]
  },
  {
   "cell_type": "markdown",
   "metadata": {},
   "source": [
    "#### Ejemplo.\n",
    "Sea \n",
    "$$f(x) = \\begin{cases} 1-\\frac x2 & \\text{si } 0\\le x\\le 2 \\\\ 0 & \\text{c.c.} \\end{cases}, \\quad F(x) = \\int_{-\\infty}^x f(t)dt=\\begin{cases}\n",
    "0 & \\text{si } x<0 \\\\\n",
    "x-\\frac{x^2}4 & \\text{si } 0\\le x\\le 2 \\\\\n",
    "1 & \\text{si} x>2\\end{cases}.$$\n",
    "\n",
    "Entonces, para $0 < u < 1$, \n",
    "$$F(x) = u \\Rightarrow \\frac{x^2}4 - x + u = 0 \\Rightarrow x = (1 \\pm \\sqrt{1 - u})\\times 2 \\Rightarrow F^{-1}(x)=(1 - \\sqrt{1 - u})\\times 2$$"
   ]
  },
  {
   "cell_type": "code",
   "execution_count": null,
   "metadata": {},
   "outputs": [],
   "source": [
    "from math import sqrt\n",
    "def ejemplo():\n",
    "    U = random()\n",
    "    return (1-sqrt(1-U))*2"
   ]
  },
  {
   "cell_type": "markdown",
   "metadata": {},
   "source": [
    "### Simulación de una variable aleatoria exponencial\n",
    "Si $X$ es una variable aleatoria con distribución exponencial con parámetro $λ = 1$,  $X ∼ \\mathcal{E}(1)$, entonces su función de distribución acumulada está dada por:\n",
    "$$\\\\F(x) = \\begin{cases} 1 − e^{−x} & x > 0 \\\\ 0 & x ≤ 0 \\end{cases} \\\\$$\n",
    "Luego la inversa de $F$ sobre $(0, 1)$ está dada por:\n",
    "$$\\\\F^{−1}(u) = −\\ln(1 − u), \\quad u\\in(0,1)\\\\$$"
   ]
  },
  {
   "cell_type": "code",
   "execution_count": null,
   "metadata": {},
   "outputs": [],
   "source": [
    "import numpy as np\n",
    "\n",
    "def VariableContinuaExponencial_1():\n",
    "    return -np.log(1-random())"
   ]
  },
  {
   "cell_type": "markdown",
   "metadata": {},
   "source": [
    "Notemos a demás que si $X$ es exponencial con parámetro $λ$, entonces $Y = \\frac1\\lambda X$ es exponencial con media $\\frac1\\lambda: Y ∼ \\mathcal{E}(\\lambda)$. Luego el método por transformada inversa para simular valores de $Y$ es"
   ]
  },
  {
   "cell_type": "code",
   "execution_count": null,
   "metadata": {},
   "outputs": [],
   "source": [
    "def VariableContinuaExponencial(lamda):\n",
    "    return -np.log(1-random())/lamda"
   ]
  },
  {
   "cell_type": "markdown",
   "metadata": {},
   "source": [
    "### Simulación de una variable aleatoria Poisson\n",
    "Sea $N(t)$, $t ≥ 0$, un proceso de Poisson homogéneo con intensidad λ. Entonces se cumple\n",
    "que:\n",
    "* Los tiempos de llegada entre eventos son variables aleatorias exponenciales de parámetro\n",
    "λ, es decir, media $\\frac1λ.$\n",
    "* El número de eventos en un intervalo de tiempo de longitud $t$ es una variable aleatoria\n",
    "Poisson de media $λ · t.\\\\$\n",
    "En particular $N(1)$ es una variable aleatoria Poisson de media λ que indica el número de arribos\n",
    "hasta el tiempo $t = 1$, y los tiempos entre arribos en el intervalo [0, 1] son exponenciales de\n",
    "parámetro λ.\n",
    "Por lo tanto, si se simulan variables aleatorias exponenciales $X_1, X_2, . . .$ con $X_i ∼ \\mathcal{E}(1)$, para $i\\ge1$, hasta que $X_1 + X_2 + · · · + X_n \\ge 1$ y $X_1 + X_2 + · · · + X_n+X_{n+1} > 1$, entonces $n$ representa el número de arribos hasta $t = 1$. Esto es:\n",
    "$$\\\\N(1) = \\min\\{n : X_1 + X_2 + · · · + X_n \\ge 1\\}$$\n",
    "Si se simula cada exponencial $X_i$ con el método de la transformada inversa, tenemos que\n",
    "\n",
    "$\\\\N(1) =\n",
    "\\max\\{n:X_1 + X_2 + · · · + X_n \\le 1\\} \\\\= \n",
    "\\max\\{n:-\\frac{1}{\\lambda}(\\ln(1-U_1) + \\ln(1-U_2) + · · · + \\ln(1-U_n)) \\le 1\\} \\\\= \n",
    "\\max\\{n:-\\frac{1}{\\lambda}\\ln((1-U_1)\\times(1-U_2) \\times · · · +\\times (1-U_n)) \\le 1\\} \\\\= \n",
    "\\max\\{n:\\ln((1-U_1)\\times(1-U_2) \\times · · · +\\times (1-U_n)) \\ge -\\lambda\\} \\\\= \n",
    "\\max\\{n:(1-U_1)\\times(1-U_2) \\times · · · +\\times (1-U_n) \\ge e^{-\\lambda}\\} \\\\$\n",
    "\n",
    "Luego: $N(1) = \\min\\{n : (1-U_1)\\times(1-U_2) \\times · · · +\\times (1-U_n) < e^{-\\lambda}\\}-1$"
   ]
  },
  {
   "cell_type": "code",
   "execution_count": null,
   "metadata": {},
   "outputs": [],
   "source": [
    "def VariableContinuaPoisson(lamda):\n",
    "    X = 0\n",
    "    Producto = 1- random()\n",
    "    cota = np.exp(-lamda)\n",
    "    while Producto >= cota:\n",
    "        Producto *= 1 - random()\n",
    "        X += 1\n",
    "    return X"
   ]
  },
  {
   "cell_type": "markdown",
   "metadata": {},
   "source": [
    "Hemos visto que la suma de $n$ variables aleatorias exponenciales, independientes, con\n",
    "parámetro λ, es una variable aleatoria con distribución $Gamma(n, λ^{−1})$. Esta propiedad nos\n",
    "permite dar un algoritmo de simulación de una variable Gamma a través de la generación de $n$ exponenciales independientes con el mismo parámetro. Notemos que si $U_1, U_2, . . . , U_n$ son\n",
    "valores de una variable uniforme $U ∼ \\mathcal{U}(0, 1)$, entonces:\n",
    "\n",
    "$$\\\\X =\n",
    "\\\\-\\frac1\\lambda \\ln(1-U_1) -\\frac1\\lambda \\ln(1-U_2) - · · · -\\frac1\\lambda \\ln(1-U_n) =\n",
    "\\\\-\\frac1\\lambda(\\ln(1-U_1) + \\ln(1-U_2) + · · · + \\ln(1-U_n))$$\n",
    "\n",
    "De esta forma, un algoritmo para la simulación de una variable $Gamma(n, λ^{−1})$ es como sigue:"
   ]
  },
  {
   "cell_type": "code",
   "execution_count": null,
   "metadata": {},
   "outputs": [],
   "source": [
    "'''Simula una gamma con parámetros n y 1/lamda'''\n",
    "def VariableContinuaGamma(n,lamda):\n",
    "    U = 1\n",
    "    for _ in range(n):\n",
    "        U *= 1-random()\n",
    "    return -np.log(U)/lamda"
   ]
  },
  {
   "cell_type": "markdown",
   "metadata": {},
   "source": [
    "## Método de aceptación y rechazo\n",
    "Supongamos que se quiere generar una variable aleatoria $X$ con función de densidad $f$:\n",
    "$$\\\\F(x) = P(X ≤ x) = \\int_{-\\infty}^x f(t) dt,\\\\$$\n",
    "y que se tiene un método para generar otra variable $Y$, con densidad $g$, tal que\n",
    "$$\\\\ \\frac{f(y)}{g(y)} ≤ c, \\quad \\forall y ∈ \\R, \\quad f(y) \\ne 0.\\\\$$\n",
    "El metodo de rechazo para generar $X$ a partir de $Y$ tiene el siguiente algoritmo,"
   ]
  },
  {
   "cell_type": "code",
   "execution_count": null,
   "metadata": {},
   "outputs": [],
   "source": [
    "def Aceptacion_Rechazo_X(SimularY,f,g,c):\n",
    "    while 1:\n",
    "        Y = SimularY()\n",
    "        U = random()\n",
    "        if U < f(Y) / (c * g(Y)):\n",
    "            return Y"
   ]
  },
  {
   "cell_type": "markdown",
   "metadata": {},
   "source": [
    "De manera analoga al caso del método para simular variables aleatorias discretas, se puede \n",
    "probar que:\n",
    "1. La variable aleatoria generada por el algoritmo Aceptacion Rechazo $X()$ tiene densidad $f$.\n",
    "2. El número de iteraciones del algoritmo es una variable aleatoria geométrica con media  $c$.\n",
    "Entonces, para cada variable $X$ que se desee generar rechazando contra una variable $Y$, es necesario determinar una cota $c$ para el cociente $\\frac{f(x)}{g(x)}$, válida para todo $x ∈ \\R$. Para determinar este valor es útil recordar algunos resultados del Análisis Matemático. En primer lugar, considerar la función\n",
    "$$ h(x) = \\frac{f(x)}{g(x)},\\quad x : f(x) \\ne 0,$$\n",
    "y para esta funcion determinar:\n",
    "1. Puntos crıticos: Esto es, $f'(x) = 0$ o $f'(x)$ no existe.\n",
    "2. Analizar cuales de estos puntos corresponden a máximos locales. \n",
    "3. Evaluar $h$ en los extremos de su dominio, si es acotado, o los límites correspondientes.\n",
    "4. Elegir una cota $a$ partir de los valores obtenidos en 1. y 2.\n",
    "\n",
    "## Simulación de variables aleatorias normales\n",
    "Definimos $Z~\\mathcal{N}(0, 1)$, y $X = μ + σZ$ una variable aleatoria normal con media $μ$ y desviación estándar $σ$. La función de distribución acumulada de $X$ es:\n",
    "$$F(x) = \\frac1{\\sqrt{2\\pi}}\\int_{-\\infty}^xe^{-\\frac{t^2}2}dt$$\n",
    "la cual no tiene una expresion cerrada y por lo tanto no se conoce una forma explıcita de su inversa.\n",
    "\n",
    "### Por composición usando $|Z|$\n",
    "Una observación es que la función de densidad de $Z$ es par, por lo cual puede intentarse un método para generar $|Z|$ y usar luego un método de composición. Más precisamnete, consideramos $U ∼ \\mathcal{U}(0, 1)$ y $X$ la variable aleatoria dada por:\n",
    "$$X = \\begin{cases} Z & U ≤ 0.5 \\\\ -Z & U > 0.5 \\end{cases} $$\n",
    "Entonces se cumple que:\n",
    "$$P(X ≤ a)\n",
    "= P(U < 0.5, |Z|\\le a ) + P(U > 0.5, -|Z|\\le a )\\\\\n",
    "= \\frac12P(|Z|\\le a)+\\frac12P(-|Z|\\le a)$$\n",
    "Con un análisis de casos $a\\ge0$ y $a<0$ podemos ver que $P(X\\le a) = P(Z\\le a)$, es decir que $X$ tiene distribución normal. Así $Z$ es la mezcla o composición de las variables $|Z|$ y $-|Z|$, ambas con ponderación $\\frac12$: $$F_Z(x)=0.5\\times F_{|Z|}(x)+0.5\\times F_{-|Z|}(x)$$\n",
    "Es necesario entonces un método para generar $|Z|$. Su densidad está dada por:\n",
    "$$f_{|Z|}(x) = \\frac2{\\sqrt{2\\pi}}e^{-\\frac{x^2}2}1_{x\\ge0}$$\n",
    "Una posibilidad es utilizar el método de rechazo con una exponencial, por ejemplo, $X=\\mathcal{E}(1)$. Denotamos $g$ a la densidad de $X$. Así, debemos encontrar una cota para:\n",
    "$$\\frac{f_{|Z|}(x)}{g(x)} = \\frac2{\\sqrt{2\\pi}}e^{-\\frac{x^2}2+x}$$\n",
    "Esta función alcanza un máximo en el punto en que el exponente es máximo, lo cual ocurre en $x = 1$. El valor máximo y por consiguiente la cota mínima $c$ esta dada por:\n",
    "$$c = \\sqrt{\\frac{2e}{\\pi}}\\approx1.32$$\n",
    "Para describir el algoritmo, calculamos:\n",
    "$$\\frac{f(x)}{cg(x)}=exp\\{-\\frac{(x-1)^2}{2}\\}$$\n",
    "Luego el método de rechazo simula $Y_1 ~ \\mathcal{E}(1)$, $U$ uniforme, e itera hasta que:\n",
    "$$U \\le exp\\{-\\frac{(Y_1-1)^2}{2}\\},$$\n",
    "es decir $$log(U) \\le -\\frac{(Y_1-1)^2}{2}.$$\n",
    "Dado que $Y_2 = -\\log(U)$ genera una exponencial $\\mathcal{E}(1)$, el algoritmo por el método de rechazo para generar $Z$ se traduce en:"
   ]
  },
  {
   "cell_type": "code",
   "execution_count": null,
   "metadata": {},
   "outputs": [],
   "source": [
    "def Normal_composicion(mu, sigma):\n",
    "    while True:\n",
    "        Y1 = -np.log(random())\n",
    "        Y2 = -np.log(random())\n",
    "        if Y2 >=(Y1-1) ** 2 / 2:\n",
    "            if random() < 0.5:\n",
    "                return Y1 * sigma + mu\n",
    "            return -Y1 * sigma + mu"
   ]
  },
  {
   "cell_type": "markdown",
   "metadata": {},
   "source": []
  }
 ],
 "metadata": {
  "language_info": {
   "name": "python"
  }
 },
 "nbformat": 4,
 "nbformat_minor": 2
}
