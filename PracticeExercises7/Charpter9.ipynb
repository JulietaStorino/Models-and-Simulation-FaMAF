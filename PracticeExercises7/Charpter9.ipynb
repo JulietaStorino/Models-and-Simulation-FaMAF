{
 "cells": [
  {
   "cell_type": "markdown",
   "metadata": {},
   "source": [
    "# Capítulo 9: Cadenas de Markov \n",
    "\n",
    "**Proceso estocástico**: Dado un espacio de probabilidad $(\\Omega, \\mathbb{P})$, un proceso estocástico $X$ en $\\Omega$ es una función $X: T\\times\\Omega \\to \\mathbb{R}$. Así, para cada $t\\in T$, $X(T,\\dot)$ es una variable aleatoria en $\\Omega$, y para cada $\\omega\\in\\Omega$, $X(\\dot,\\omega)$ es una función en $T$.\n",
    "* Proceso estocástico discreto: T es un subconjunto de un conjunto discreto.\n",
    "* Proceso estocástico continuo: T es un subconjunto de un conjunto continuo.\n",
    "\n",
    "**Conjunto de estados**: Está dado por todos los valores que puede tomar el proceso. Esto es $S=\\{X(t,\\omega)|t\\in I,\\quad \\omega\\in\\Omega\\}$.\n",
    "\n",
    "**Cadena**: Es un proceso estocástico donde $T$ es discreto y $S$ es discreto.\n",
    "\n",
    "**Proceso puntual**: Es un proceso con $T$ continuo y $S$ discreto. Un caso particular son los Procesos de Poisson. \n",
    "\n",
    "**Sucesión de variables faleatorias continuas**: Es un proceso con $T$ es discreto y $S$ es continuo.\n",
    "\n",
    "**Proceso continuo**: Si T y S son continuos.\n",
    "\n",
    "# Cadenas de Markov\n",
    "**Propiedades de Markov**: Dado el proceso estocástico discreto $X_0, X_1, X_2, . . . , X_n, . . .$, donde $X_i$ indica el estado del sistema en el tiempo $i$, el proceso cumple la propiedad de Markov, $X$ es un *proceso de Markov* o *proceso Markoviano*, si $P (X_{n+1} \\leq x | X_n, X_{n-1}, . . . , X_0) = P (X_{n+1} \\leq x | X_n).$\n",
    " \n",
    "**Cadena de Markov**: Es un proceso de Markov con un conjunto discreto de estados $S$. En este caso la propiedad de Markov se puede escribir también como: $P (X_{n+1} = j | X_n = x_n, X_{n-1} = x_{n-1}, . . . , X_0 = x_0) = P (X_{n+1} = j | X_n = x_n), \\quad \\forall j, x_0, x_1,. . . , x_n \\in S$.\n",
    "\n",
    "**Probabilidades de transición**: Dada una cadena de Markov $X_n$_{n\\ge0}$ con un conjunto de estados $S=\\{1,2,. . . \\}$, se llama así a los números $P(X_{n+1}=j|X_n=i)$, donde $i,j\\in S$.\n",
    "\n",
    "**Cadena de Markov homogénea**: Es una cadena de Markov donde las probabilidades de transición no dependen del tiempo $n$. Usaremos la notación $p_{ij}=P(X_{n+1}=j|X_n=i)$, y como solo consideraremos este tipo de cadenas, veremos que verifican las siguientes propiedades:\n",
    "* $p_{ij}\\ge0$, para todo $i,j\\in S$.\n",
    "* $\\sum_{j\\in S}p_{ij}=1$, para todo $i\\in S$.\n",
    "\n",
    "\n",
    "\n",
    "# Probabilidades de transición\n",
    "# Diagrama de transición\n",
    "# Estructura de clases\n",
    "# Clasificación de estados\n",
    "# Cadenas periódicas\n",
    "# Tiempo de alcance y probabilidad de absorción\n",
    "# Tiempo medio de retorno\n",
    "# Distribución estacionaria"
   ]
  }
 ],
 "metadata": {
  "language_info": {
   "name": "python"
  }
 },
 "nbformat": 4,
 "nbformat_minor": 2
}
