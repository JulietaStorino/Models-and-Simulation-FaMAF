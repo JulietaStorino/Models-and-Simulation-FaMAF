{
 "cells": [
  {
   "cell_type": "markdown",
   "metadata": {},
   "source": [
    "# PRÁCTICO 4: GENERACIÓN DE VARIABLES ALEATORIAS DISCRETAS.\n",
    "\n",
    "## Ejercicio 1.\n",
    "Se baraja un conjunto de $n = 100$ cartas (numeradas consecutivamente del 1 al 100) y se extrae\n",
    "del mazo una carta por vez. Consideramos que ocurre un “éxito” si la i-ésima carta extraída es aquella cuyo número es $i \\quad (i = 1,...,n)$.\n",
    "\n",
    "1. Calcule la probabilidad de que\n",
    "\n",
    "    1. las primeras r cartas sean coincidencias y dé su valor para $r = 10$.\n",
    "    \n",
    "    2. haya exactamente r coincidencias y estén en las primeras r cartas. Dé su valor para $r = 10$.\n",
    "    \n",
    "2. Pruebe que $E(X) = Var(X) = 1$ donde $X$ es el número de coincidencias obtenidas en una baraja de $n$ cartas.\n",
    "\n",
    "3. Escriba un programa de simulación para estimar la esperanza y la varianza del número total de éxitos, y de los eventos del inciso (1) con $r = 10$, y compare los resultados obtenidos con 100, 1000, 10000 y 100000 iteraciones.\n",
    "\n",
    "### Desarrollo.\n",
    "\n",
    "* $E_i$: Éxito en la i-ésima posición;\n",
    "* $E=\\cup_{i=1}^n E_i$: Al menos un éxito;\n",
    "* $E_{i_1,...,i_m}=E_{i_1}\\cap...\\cap E_{i_m}$: Éxitos en las posiciones $i_1,...,i_m$;\n",
    "* $A_i$: Sólo ocurre un éxito en la i-ésima posición;\n",
    "* $A_{i_1,...,i_m}=A_{i_1}\\cap...\\cap A_{i_m}$: Sólo ocurren éxitos en las posiciones $i_1,...,i_m$.\n",
    "\n",
    "Si definimos la suma de las probabilidades de éxito en distintas $r$ posiciones,\n",
    "$$S_r = \\sum_{1\\le i_1<...<i_r} P(E_{i_1,...,i_r}),$$\n",
    "donde la sumatoria tiene $\\binom{n}{r}$ términos, y \n",
    "$$S_1=P(E_1)+...+P(E_n),\\quad S_2=P(E_{1,2})+...+P(E_{1,n})+P(E_{2,3})+...+P(E_{n,(n-1)}),\\quad...$$\n",
    "entonces, por una propiedad dada en Probabilidad y Estadística:\n",
    "$$P(E) = P(E_1\\cup...\\cup E_n) = \\sum_{r=1}^n (-1)^{r-1}S_r = S_1-S_2+S_3-...+(-1)^{n-1}S_n.$$\n",
    "\n",
    "Por otro lado tenemos que, como las intersecciones son siempre entre eventos distintos, entonces debemos contar las permutaciones de los $r$ éxitos en las $n$ posiciones posibles, y dividir por las permutaciones totales, es decir:\n",
    "$$P(E_{i_1,...,i_r}) = \\frac{(n-r)!}{n!}\n",
    "\\Rightarrow \\\\\n",
    "S_r = \\sum_{1\\le i_1<...<i_r} P(E_{i_1,...,i_r}) = \\sum_{1\\le i_1<...<i_r} \\frac{(n-r)!}{n!} = \\binom{n}{r} \\frac{(n-r)!}{n!} = \\frac1{r!}\n",
    "\\Rightarrow \\\\\n",
    "P(E) = \\sum_{r=1}^n (-1)^{r-1}S_r = \\sum_{r=1}^n \\frac{(-1)^{r-1}}{r!}.$$\n",
    "\n",
    "Con esta información podemos calcular la probabilidad de no tener ninguna coinsidencia, denotandolo como $p_n$,\n",
    "$$p_n = 1 - P(E) = 1 - \\sum_{r=1}^n \\frac{(-1)^{r-1}}{r!} = \\sum_{r=0}^n \\frac{(-1)^r}{r!}.$$\n",
    "\n",
    "Luego, debemos calcular algunas probabilidades:\n",
    "\n",
    "$$\n",
    "P(E_i) = \\frac{(n-1)!}{n!} = \\frac1n, \\\\\n",
    "P(A_{i_1,...,i_r}) = P(A_{1,...,r}) = \\frac{(n-r)!p_{n-r}}{n!} = \\frac{(n-r)!}{n!} \\sum_{k=0}^{n-r} \\frac{(-1)^k}{k!}, \\\\\n",
    "P^n(r) = p(\\text{exactamente r éxitos}) = \\binom{n}{r} P(A_{1,...,r}) = \\binom{n}{r} \\frac{(n-r)!}{n!} \\sum_{k=0}^{n-r} \\frac{(-1)^k}{k!} = \\frac1{r!} \\sum_{k=0}^{n-r} \\frac{(-1)^k}{k!}\n",
    ".$$\n",
    "\n",
    "### Resolución.\n",
    "1. \n",
    "    1. $P(E_{1,...,r}) = \\frac{(n-r)!}{n!}, \\quad P(E_{1,...,10}) = \\frac{90!}{100!}.$\n",
    "    2. $P(A_{1,...,r}) = \\frac{(n-r)!p_{n-r}}{n!}, \\quad P(A_{1,...,10}) = \\frac{90!}{100!} \\sum_{k=0}^{90} \\frac{(-1)^k}{k!}.$\n",
    "\n",
    "2. \n",
    "$$E(X) = \\sum_{m=0}^n mP(X=m) = \\\\\n",
    "\\sum_{m=1}^n m\\frac1{m!} \\sum_{h=0}^{n-m} \\frac{(-1)^h}{h!} = \\\\\n",
    "\\sum_{m=1}^n \\frac1{(m-1)!} \\sum_{h=0}^{(n-1)-(m-1)} \\frac{(-1)^h}{h!}= \\\\\n",
    "\\sum_{k=0}^{n-1} \\frac1{k!} \\sum_{h=0}^{n-1-k} \\frac{(-1)^h}{h!}= \\\\\n",
    "\\sum_{k=0}^{n-1}P(X_{n-1}=k) = 1.\n",
    "$$\n",
    "$$ E(K^2) = \\sum_{m=0}^n m^2\\frac1{m!}\\sum_{h=0}^{n-m} \\frac{(-1)^h}{h!} = \\sum_{m=1}^n m\\frac1{(m-1)!} \\sum_{h=0}^{n-m} \\frac{(-1)^h}{h!} = \\\\\n",
    "\\sum_{m=1}^n \\frac{m-1+1}{(m-1)!} \\sum_{h=0}^{(n-m)} \\frac{(-1)^h}{h!} = \\\\\n",
    "\\sum_{m=2}^n \\frac1{(m-2)!} \\sum_{h=0}^{(n-2)-(m-2)} \\frac{(-1)^h}{h!} + \\sum_{m=1}^n \\frac1{(m-1)!} \\sum_{h=0}^{((n-1)-(m-1))} \\frac{(-1)^h}{h!} = \\\\\n",
    "\\sum_{m=0}^{n-2} p^{n-2}(m) \\sum_{h=0}^{n-1} p^{n-1}(m) = 1 + 1 =2.\n",
    "$$\n",
    "$$Var(X) = E(X^2) - E(X)^2 = 2 - 1 = 1.$$\n",
    "    \n",
    "3. "
   ]
  },
  {
   "cell_type": "code",
   "execution_count": 116,
   "metadata": {},
   "outputs": [
    {
     "name": "stdout",
     "output_type": "stream",
     "text": [
      "Mean for 100 iterations:\n",
      "\tTotal successes: 1.0;\n",
      "\tSuccesses until 10: 0.14;\n",
      "\tP(E): 0.0;\n",
      "\tP(A): 0.0.\n",
      "\n",
      "variance for 100 iterations:\n",
      "\tTotal successes: 1.404040404040404;\n",
      "\tSuccesses until 10: 0.1474747474747477;\n",
      "\tP(E): 0.0;\n",
      "\tP(A): 0.0.\n",
      "\n",
      "Mean for 1000 iterations:\n",
      "\tTotal successes: 1.022;\n",
      "\tSuccesses until 10: 0.097;\n",
      "\tP(E): 0.0;\n",
      "\tP(A): 0.0.\n",
      "\n",
      "variance for 1000 iterations:\n",
      "\tTotal successes: 1.0837437437437534;\n",
      "\tSuccesses until 10: 0.08442142142142262;\n",
      "\tP(E): 0.0;\n",
      "\tP(A): 0.0.\n",
      "\n",
      "Mean for 10000 iterations:\n",
      "\tTotal successes: 0.9958;\n",
      "\tSuccesses until 10: 0.0997;\n",
      "\tP(E): 0.0;\n",
      "\tP(A): 0.0.\n",
      "\n",
      "variance for 10000 iterations:\n",
      "\tTotal successes: 1.0118431843184814;\n",
      "\tSuccesses until 10: 0.09965053505349583;\n",
      "\tP(E): 0.0;\n",
      "\tP(A): 0.0.\n",
      "\n",
      "Mean for 100000 iterations:\n",
      "\tTotal successes: 0.99783;\n",
      "\tSuccesses until 10: 0.09987;\n",
      "\tP(E): 0.0;\n",
      "\tP(A): 0.0.\n",
      "\n",
      "variance for 100000 iterations:\n",
      "\tTotal successes: 1.0068788826874484;\n",
      "\tSuccesses until 10: 0.10114547815482276;\n",
      "\tP(E): 0.0;\n",
      "\tP(A): 0.0.\n",
      "\n"
     ]
    }
   ],
   "source": [
    "import numpy as np\n",
    "from random import random\n",
    "\n",
    "'''\n",
    "a: arreglo que contiene el orden inicial tal que a[i] = a_i\n",
    "'''\n",
    "def Permutar(a):\n",
    "    for i in range(len(a)-1, 0, -1):\n",
    "        Indice = int((i+1)*random())\n",
    "        a[Indice], a[i] = a[i], a[Indice]\n",
    "\n",
    "def simulate():\n",
    "    cards = np.arange(100)\n",
    "    Permutar(cards)\n",
    "    cards = cards == np.arange(100)\n",
    "\n",
    "    sum_until_r = np.sum(cards[:10])\n",
    "    sum_from_r = np.sum(cards[10:100])\n",
    "\n",
    "    return sum_until_r, sum_from_r\n",
    "\n",
    "def aproximate(Nsim, r):\n",
    "    total_successes_m, successes_until_r_m, E_m, A_m = 0, 0, 0, 0\n",
    "    total_successes_v, successes_until_r_v, E_v, A_v = 0, 0, 0, 0\n",
    "\n",
    "    for _ in range(Nsim):\n",
    "        sum_until_r, sum_from_r = simulate()\n",
    "        total_successes_m += sum_until_r + sum_from_r\n",
    "        successes_until_r_m += sum_until_r\n",
    "        E_m += (sum_until_r == 10)\n",
    "        A_m += (sum_until_r == 10 and sum_from_r == 0)\n",
    "    \n",
    "    total_successes_m /= Nsim\n",
    "    successes_until_r_m /= Nsim\n",
    "    E_m /= Nsim\n",
    "    A_m /= Nsim\n",
    "\n",
    "    print(f'Mean for {Nsim} iterations:')\n",
    "    print(f'\\tTotal successes: {total_successes_m};\\n\\tSuccesses until {r}: {successes_until_r_m};')\n",
    "    print(f'\\tP(E): {E_m};\\n\\tP(A): {A_m}.\\n')\n",
    "\n",
    "    for _ in range(Nsim):\n",
    "        sum_until_r, sum_from_r = simulate()\n",
    "        \n",
    "        total_successes_v += (sum_until_r + sum_from_r - total_successes_m) ** 2\n",
    "        successes_until_r_v += (sum_until_r - successes_until_r_m) ** 2\n",
    "        E_v += ((sum_until_r == 10) - E_m) ** 2\n",
    "        A_v += ((sum_until_r == 10 and sum_from_r == 0) - A_m) ** 2\n",
    "    \n",
    "    total_successes_v /= (Nsim - 1)\n",
    "    successes_until_r_v /= (Nsim - 1)\n",
    "    E_v /= (Nsim - 1)\n",
    "    A_v /= (Nsim - 1)\n",
    "\n",
    "    print(f'variance for {Nsim} iterations:')\n",
    "    print(f'\\tTotal successes: {total_successes_v};\\n\\tSuccesses until {r}: {successes_until_r_v};')\n",
    "    print(f'\\tP(E): {E_v};\\n\\tP(A): {A_v}.\\n')\n",
    "\n",
    "iterations = [100, 1000, 10000, 100000]\n",
    "for iteration in iterations:\n",
    "    aproximate(iteration, 10)\n"
   ]
  },
  {
   "cell_type": "markdown",
   "metadata": {},
   "source": [
    "## Ejercicio 2.\n",
    "Se desea construir una aproximación de: $$\\sum_{k=1}^N\\exp(\\frac{k}{N}) \\text{ donde N=10000}.$$\n",
    "1. Escriba un algoritmo para estimar la cantidad deseada.\n",
    "\n",
    "2. Obtenga la aproximación sorteando 100 números aleatorios.\n",
    "\n",
    "3. Escriba un algoritmo para calcular la suma de los primeros 100 términos, y compare el valor exacto con las dos aproximaciones, y el tiempo de cálculo.\n",
    "\n",
    "### Desarrollo.\n",
    "Si desarrollamos la función dada, obtenemos:\n",
    "$$\\sum_{k=1}^N\\exp(\\frac{k}{N}) = \\frac1N\\sum_{k=1}^NN\\exp(\\frac{k}{N}) = E[g(k)], \\quad g(k)=N\\exp(\\frac{k}{N}) \\text{ y } N>>1$$\n",
    "Entonces, por la Ley Fuerte de los grandes números, podemos estimar la cantidad deseada como un promedio de M términos de la sumatoria elegidos al azar\n",
    "$$\\sum_{k=1}^N\\exp(\\frac{k}{N}) \\approx \\frac1M\\sum_{k=1}^Mg(X_i),$$\n",
    "donde $X_i$ es una variable aleatoria uniforme discreta en $[1,N]$ para $i=1,...,M$.\n",
    "\n",
    "### Resolución.\n",
    "1."
   ]
  },
  {
   "cell_type": "code",
   "execution_count": 129,
   "metadata": {},
   "outputs": [],
   "source": [
    "from random import random\n",
    "import numpy as np\n",
    "\n",
    "def MonteCarlo(g,N,M):\n",
    "    Suma = 0\n",
    "    for _ in range(M):\n",
    "        U = int(random() * N) + 1\n",
    "        Suma += g(U)\n",
    "    return Suma / M * N\n",
    "\n",
    "def g(x):\n",
    "    return np.exp(x/10000)\n",
    "\n",
    "def aproximate(Nsim):\n",
    "    MonteCarlo(g,10000,Nsim)"
   ]
  },
  {
   "cell_type": "markdown",
   "metadata": {},
   "source": [
    "2. "
   ]
  },
  {
   "cell_type": "code",
   "execution_count": 131,
   "metadata": {},
   "outputs": [
    {
     "name": "stdout",
     "output_type": "stream",
     "text": [
      "Approach drawing 100 random numbers\n",
      "16624.64641064637\n"
     ]
    }
   ],
   "source": [
    "print('Approach drawing 100 random numbers')\n",
    "print(f'{MonteCarlo(g,10000,100)}')"
   ]
  },
  {
   "cell_type": "markdown",
   "metadata": {},
   "source": [
    "3. "
   ]
  },
  {
   "cell_type": "code",
   "execution_count": 133,
   "metadata": {},
   "outputs": [
    {
     "name": "stdout",
     "output_type": "stream",
     "text": [
      "Approximation adding the first 100 terms\n",
      "100.50669600897406\n",
      "Exact value\n",
      "17183.677439823703\n"
     ]
    }
   ],
   "source": [
    "\n",
    "print('Approximation adding the first 100 terms')\n",
    "result = 0\n",
    "for i in range(100):\n",
    "    result += g(i+1)\n",
    "print(result)\n",
    "\n",
    "print('Exact value')\n",
    "result = 0\n",
    "for i in range(10000):\n",
    "    result += g(i+1)\n",
    "print(result)\n"
   ]
  },
  {
   "cell_type": "markdown",
   "metadata": {},
   "source": [
    "Luego el valor más cercano al exacto es el que se obtiene de la aproximación de la sumatoria con 100 términos aleatorios. Además, el tiempo de cálculo de ambas aproximaciones es $O(M)$, y el tiempo de cálculo de la suma exacta es $O(N)$."
   ]
  },
  {
   "cell_type": "markdown",
   "metadata": {},
   "source": [
    "## Ejercicio 3.\n",
    "Se lanzan simultáneamente un par de dados legales y se anota el resultado de la suma de ambos. El proceso se repite hasta que todos los resultados posibles: 2,3,...,12 hayan aparecido al menos una vez. Estudiar mediante una simulación la variable $N$, el número de lanzamientos necesarios para cumplir el proceso. Cada lanzamiento implica arrojar el par de dados.\n",
    "1. Describa la estructura lógica del algoritmo que permite simular en computadora el número de lanzamientos necesarios para cumplir el proceso.\n",
    "2. Mediante una implementación en computadora,\n",
    "    1. estime el valor medio y la desviación estándar del número de lanzamientos, repitiendo el algoritmo: 100, 1000, 10000 y 100000 veces.\n",
    "    2. estime la probabilidad de que N sea por lo menos 15 y la probabilidad de que N sea a lo sumo 9, repitiendo el algoritmo: 100, 1000, 10000 y 100000.\n",
    "\n",
    "### Resolución.\n",
    "\n",
    "1. Para simular el proceso, debemos tener en cuenta dos procesos, $N_1, N_2 \\thicksim U\\{1,6\\}$, que representan los resultados de los dados 1 y 2 respectivamente, y $N = N_1 + N_2$, que representa la suma de los resultados. Luego, debemos tener una lista de las sumas que han aparecido, y un contador de los lanzamientos necesarios para que todas las sumas aparezcan al menos una vez.\n",
    "De esta manera, para estudiar la variable $N$, debemos realizar reiteradamente esta simulación y promediar los resultados obtenidos.\n",
    "\n",
    "2. 1. "
   ]
  },
  {
   "cell_type": "code",
   "execution_count": 113,
   "metadata": {},
   "outputs": [
    {
     "name": "stdout",
     "output_type": "stream",
     "text": [
      "With 100 iterations:\n",
      "\tEstimation: 61.65\n",
      "\tStandard deviation: 45.60371147176508;\n",
      "With 1000 iterations:\n",
      "\tEstimation: 61.199\n",
      "\tStandard deviation: 34.70254882569867;\n",
      "With 10000 iterations:\n",
      "\tEstimation: 61.5177\n",
      "\tStandard deviation: 36.049553951609546;\n",
      "With 100000 iterations:\n",
      "\tEstimation: 61.46738\n",
      "\tStandard deviation: 35.716218089183165;\n"
     ]
    }
   ],
   "source": [
    "from math import sqrt\n",
    "\n",
    "def simulate():\n",
    "    number_of_throws = 0\n",
    "    numbers_obtained = [False] * 11\n",
    "    while np.sum(numbers_obtained) != 11:\n",
    "        number_of_throws += 1\n",
    "        U = int(random() * 6) + 1 #N_1\n",
    "        V = int(random() * 6) + 1 #N_2\n",
    "        numbers_obtained[U+V-2] = True #2 <= N = N_1 + N_2 <= 12\n",
    "    return number_of_throws\n",
    "\n",
    "def aproximate(Nsim):\n",
    "    mean, variance = 0, 0\n",
    "    \n",
    "    for _ in range(Nsim):\n",
    "        mean += simulate()\n",
    "    mean /= Nsim\n",
    "    \n",
    "    print(f'\\tEstimation: {mean}')\n",
    "\n",
    "    for _ in range(Nsim):\n",
    "        variance += (simulate() - mean) ** 2\n",
    "    variance /= Nsim\n",
    "\n",
    "    standard_deviation = sqrt(variance)\n",
    "    \n",
    "    print(f'\\tStandard deviation: {standard_deviation};')\n",
    "\n",
    "iterations = [100, 1000, 10000, 100000]\n",
    "for iteration in iterations:\n",
    "    print(f'With {iteration} iterations:')\n",
    "    aproximate(iteration)"
   ]
  },
  {
   "cell_type": "markdown",
   "metadata": {},
   "source": [
    "2. 2. "
   ]
  },
  {
   "cell_type": "code",
   "execution_count": 5,
   "metadata": {},
   "outputs": [
    {
     "name": "stdout",
     "output_type": "stream",
     "text": [
      "With 100 iterations:\n",
      "\tProbability that N is at least 15: 1.0\n",
      "\tProbability that N is at most 9: 0.0\n",
      "With 1000 iterations:\n",
      "\tProbability that N is at least 15: 0.998\n",
      "\tProbability that N is at most 9: 0.0\n",
      "With 10000 iterations:\n",
      "\tProbability that N is at least 15: 0.9986\n",
      "\tProbability that N is at most 9: 0.0\n",
      "With 100000 iterations:\n",
      "\tProbability that N is at least 15: 0.99885\n",
      "\tProbability that N is at most 9: 0.0\n"
     ]
    }
   ],
   "source": [
    "def simulate():\n",
    "    number_of_throws = 0\n",
    "    numbers_obtained = [False] * 11\n",
    "    while np.sum(numbers_obtained) != 11:\n",
    "        number_of_throws += 1\n",
    "        U = int(random() * 6) + 1 #N_1\n",
    "        V = int(random() * 6) + 1 #N_2\n",
    "        numbers_obtained[U+V-2] = True #2 <= N = N_1 + N_2 <= 12\n",
    "    return number_of_throws\n",
    "\n",
    "def aproximate(Nsim):\n",
    "    probability_f, probability_s = 0, 0\n",
    "    \n",
    "    for _ in range(Nsim):\n",
    "        value = simulate()\n",
    "        probability_f += 0 if value < 15 else 1\n",
    "        probability_s += 0 if value > 9 else 1\n",
    "    probability_f /= iteration\n",
    "    probability_s /= iteration\n",
    "    \n",
    "    print(f'\\tProbability that N is at least 15: {probability_f}')\n",
    "    print(f'\\tProbability that N is at most 9: {probability_s}')\n",
    "\n",
    "iterations = [100, 1000, 10000, 100000]\n",
    "for iteration in iterations:\n",
    "    print(f'With {iteration} iterations:')\n",
    "    aproximate(iteration)"
   ]
  },
  {
   "cell_type": "markdown",
   "metadata": {},
   "source": [
    "## Ejercicio 4.\n",
    "Implemente tres métodos para generar una variable $X$ que toma los valores del 1 al 10, con probabilidades $p_1 = 0,11, p_2 = 0,14, p_3 = 0,09, p_4 = 0,08, p_5 = 0,12, p_6 = 0,10, p_7 = 0,09, p_8 = 0,07, p_9 = 0,11, p_{10} = 0,09$ usando:\n",
    "1. Método de rechazo con una uniforme discreta.\n",
    "\n",
    "2. Transformada inversa.\n",
    "\n",
    "3. Método de la urna: utilizar un arreglo A de tamaño 100 donde cada valor i está en exactamente\n",
    "$p_i \\times 100$ posiciones. El método debe devolver $A[k]$ con probabilidad 0,01. ¿Por qué funciona?\n",
    "\n",
    "Compare la eficiencia de los tres algoritmos realizando 10000 simulaciones.\n",
    "\n",
    "### Desarrollo.\n",
    "1. Sea $Y \\thicksim \\mathcal{U}\\{1,10\\}$ la variable aleatoria discreta que vamos a igualar, tal que $P(Y=j)=q_j=\\frac1{10}=0.1$, para $j=1,...,10$,\n",
    "$$ \\frac{P(X=j)}{P(Y=j)} = \\frac{p_j}{0.1} = 10p_j \\le 10 \\times 0.14 = 1.4 \\Rightarrow c=1.4.$$\n",
    "\n",
    "2. Dado $U\\thicksim \\mathcal{U}[0,1]$ y  \n",
    "$$F(x) = \\begin{cases} 0.11 & x=1, \\\\ 0.25 & x=2, \\\\ 0.34 & x=3, \\\\ 0.42 & x=4, \\\\ 0.54 & x=5, \\\\ 0.64 & x=6, \\\\ 0.73 & x=7, \\\\ 0.80 & x=8, \\\\ 0.87 & x=9, \\\\ 0.96 & x=10. \\end{cases}\n",
    "\\Rightarrow\n",
    "X = \\begin{cases} 2 & U < 0.14, \\\\ 5 & U < 0.26, \\\\ 1 & U < 0.37, \\\\ 9 & U < 0.48, \\\\ 6 & U < 0.58, \\\\ 3 & U < 0.67, \\\\ 7 & U < 0.76, \\\\ 10 & U < 0.85, \\\\ 4 & U < 0.93, \\\\ 8 & c.c. \\end{cases}$$\n",
    "\n",
    "3. Para que el método de la urna devuelva $A[k]$ con probabilidad 0,01 generamos una variable aleatoria $U\\thicksim \\mathcal{U}\\{1,100\\}$ tal que $A[k]=A[U]$, de esta manera $P(k) = P(U = k) = \\frac1{100} = 0.01$. El algoritmo funciona porque $P(X = k) = P(A[i] = k)$, con $i=1,...,100$ y, como cada valor $k$ está en exactamente $p_k \\times 100$ posiciones,entonces $P(A[i] = k) = p_k \\times 100 \\times \\frac1{100} = p_k$. \n",
    "\n",
    "### Resolución."
   ]
  },
  {
   "cell_type": "code",
   "execution_count": 152,
   "metadata": {},
   "outputs": [
    {
     "name": "stdout",
     "output_type": "stream",
     "text": [
      "Done!\n",
      "Time elapsed: 0.006819009780883789 seconds\n"
     ]
    }
   ],
   "source": [
    "from random import random\n",
    "import time\n",
    "\n",
    "def GenerateUniform(): # Y ~ U{1,10}\n",
    "    return int(random() * 10) + 1\n",
    "\n",
    "def AcceptanceRejection(probabilities): # X\n",
    "    cq = 50/7\n",
    "    Y, U = GenerateUniform(), random()\n",
    "    while U >= probabilities[Y-1] * cq:\n",
    "        Y, U = GenerateUniform(), random()\n",
    "    return Y\n",
    "\n",
    "# Inicia el cronómetro\n",
    "start_time = time.time()\n",
    "\n",
    "probabilities = [.11, .14, .09, .08, .12, .10, .09, .07, .11, .09]\n",
    "for _ in range(10000):\n",
    "    AcceptanceRejection(probabilities)\n",
    "end_time = time.time()\n",
    "\n",
    "# Calcula el tiempo transcurrido\n",
    "elapsed_time = end_time - start_time\n",
    "\n",
    "print('Done!')\n",
    "print(\"Time elapsed:\", elapsed_time, \"seconds\")\n"
   ]
  },
  {
   "cell_type": "code",
   "execution_count": 167,
   "metadata": {},
   "outputs": [
    {
     "name": "stdout",
     "output_type": "stream",
     "text": [
      "Done!\n",
      "Time elapsed: 0.006746768951416016 seconds\n"
     ]
    }
   ],
   "source": [
    "def InverseTransform(probabilities,values):\n",
    "    U = random()\n",
    "    for i in range(10):\n",
    "        if U < probabilities[i]:\n",
    "            return values[i]\n",
    "\n",
    "# Inicia el cronómetro\n",
    "start_time = time.time()\n",
    "\n",
    "probabilities = [.14, .26, .37, .48, .58, .67, .76, .85, .93, 1.]\n",
    "values = [2, 5, 1, 9, 6, 3, 7, 10, 4, 8]\n",
    "for _ in range(10000):\n",
    "    InverseTransform(probabilities,values)\n",
    "\n",
    "# Detiene el cronómetro\n",
    "end_time = time.time()\n",
    "\n",
    "# Calcula el tiempo transcurrido\n",
    "elapsed_time = end_time - start_time\n",
    "\n",
    "print('Done!')\n",
    "print(\"Time elapsed:\", elapsed_time, \"seconds\")\n"
   ]
  },
  {
   "cell_type": "code",
   "execution_count": 151,
   "metadata": {},
   "outputs": [
    {
     "name": "stdout",
     "output_type": "stream",
     "text": [
      "Done!\n",
      "Tiempo transcurrido: 0.00165557861328125 segundos\n"
     ]
    }
   ],
   "source": [
    "def GenerateUniform(): # Y ~ U{0,99}\n",
    "    return int(random() * 100)\n",
    "\n",
    "# Inicia el cronómetro\n",
    "start_time = time.time()\n",
    "\n",
    "urn = [1]*11 + [2]*14 + [3]*9 + [4]*8 + [5]*12 + [6]*10 + [7]*9 + [8]*7 + [9]*11 + [10]*9\n",
    "for _ in range(10000):\n",
    "    urn[GenerateUniform()]\n",
    "\n",
    "# Detiene el cronómetro\n",
    "end_time = time.time()\n",
    "\n",
    "# Calcula el tiempo transcurrido\n",
    "elapsed_time = end_time - start_time\n",
    "\n",
    "print('Done!')\n",
    "print(\"Time elapsed:\", elapsed_time, \"seconds\")\n"
   ]
  },
  {
   "cell_type": "markdown",
   "metadata": {},
   "source": [
    "## Ejercicio 5.\n",
    "Implemente dos métodos para generar una binomial $Bin(n, p)$:\n",
    "1. Usando transformada inversa.\n",
    "\n",
    "2. Simulando n ensayos con probabilidad de éxito p y contando el número de éxitos.\n",
    "\n",
    "Para ambos métodos:\n",
    "\n",
    "1. Compare la eficiencia de ambos algoritmos para n = 10 y p = 0,3, evaluando el tiempo necesario para realizar 10000 simulaciones.\n",
    "\n",
    "2. Estime el valor con mayor ocurrencia y la proporción de veces que se obtuvieron los valores 0 y 10 respectivamente.\n",
    "\n",
    "3. Compare estos valores con las probabilidades teóricas de la binomial. Si están alejados, revise el código.\n",
    "\n",
    "### Desarrollo.\n",
    "1. Como $p_i = P(X=i) = \\binom{n}{i}p^i(1-p)^{n-i}$, entonces\n",
    "$$p_0 = \\binom{n}{0}p^0(1-p)^{n-0} = (1-p)^n,$$\n",
    "$$p_{i+1} =$$\n",
    "$$\\binom{n}{i+1}p^{i+1}(1-p)^{n-i-1} =$$\n",
    "$$\\frac{n!}{(i+1)!(n-i-1)!}p^{i+1}(1-p)^{n-i-1} =$$\n",
    "$$\\frac{n!(n-i)}{(i+1)(i!)(n-i)!}p^ip(1-p)^{n-i}(1-p)^{-1} =$$\n",
    "$$\\binom{n}{i}p^i(1-p)^{n-i} \\frac{(n-i)p}{(i+1)(1-p)} =$$\n",
    "$$p_i \\frac{(n-i)p}{(i+1)(1-p)}.$$\n",
    "\n",
    "3. Si $X\\thicksim Bin(n,p)$, entonces $E(X) = np$. Por lo tanto, si $n=10$ y $p=0.3$, entonces $E(X) = 3$.\n",
    "\n",
    "### Resolución."
   ]
  },
  {
   "cell_type": "code",
   "execution_count": 170,
   "metadata": {},
   "outputs": [
    {
     "name": "stdout",
     "output_type": "stream",
     "text": [
      "Time elapsed: 0.020846843719482422 seconds\n",
      "Value with highest occurrence: 3\n",
      "Proportion of times the value 0 was obtained: 0.0261\n",
      "Proportion of times the value 10 was obtained: 0.0\n"
     ]
    }
   ],
   "source": [
    "def BinomialByInverseTransformed(n,p):\n",
    "    U = random()\n",
    "    prob = (1-p) ** n #p_0\n",
    "    F = prob          #F_0\n",
    "\n",
    "    for i in range(n):\n",
    "        if U < F:\n",
    "            return i\n",
    "        prob *= ((n-i)*p)/((i+1)*(1-p)) #p_{i+1}\n",
    "        F += prob                       #F_{i+1}\n",
    "    \n",
    "    return n\n",
    "\n",
    "# Inicia el cronómetro\n",
    "start_time = time.time()\n",
    "\n",
    "values = [0] * 11\n",
    "for _ in range(10000):\n",
    "    values[BinomialByInverseTransformed(10,.3)] += 1\n",
    "\n",
    "# Detiene el cronómetro\n",
    "end_time = time.time()\n",
    "\n",
    "# Calcula el tiempo transcurrido\n",
    "elapsed_time = end_time - start_time\n",
    "\n",
    "print(\"Time elapsed:\", elapsed_time, \"seconds\")\n",
    "\n",
    "highest_occurrence = 0\n",
    "for i in range(11):\n",
    "    highest_occurrence = i if values[i] > values[highest_occurrence] else highest_occurrence\n",
    "\n",
    "print(f'Value with highest occurrence: {highest_occurrence}')\n",
    "print(f'Proportion of times the value 0 was obtained: {values[0]/10000}')\n",
    "print(f'Proportion of times the value 10 was obtained: {values[10]/10000}')\n"
   ]
  },
  {
   "cell_type": "code",
   "execution_count": 171,
   "metadata": {},
   "outputs": [
    {
     "name": "stdout",
     "output_type": "stream",
     "text": [
      "Time elapsed: 0.012127876281738281 seconds\n",
      "Value with highest occurrence: 3\n",
      "Proportion of times the value 0 was obtained: 0.0263\n",
      "Proportion of times the value 10 was obtained: 0.0\n"
     ]
    }
   ],
   "source": [
    "def BernoulliByInverseTransformed(p):\n",
    "    return random() < p\n",
    "\n",
    "def BinomialBySimulation(n,p):\n",
    "    X = 0\n",
    "    for _ in range(n):\n",
    "        X += BernoulliByInverseTransformed(p)\n",
    "    return X\n",
    "\n",
    "# Inicia el cronómetro\n",
    "start_time = time.time()\n",
    "\n",
    "values = [0] * 11\n",
    "for _ in range(10000):\n",
    "    values[BinomialByInverseTransformed(10,.3)] += 1\n",
    "\n",
    "# Detiene el cronómetro\n",
    "end_time = time.time()\n",
    "\n",
    "# Calcula el tiempo transcurrido\n",
    "elapsed_time = end_time - start_time\n",
    "\n",
    "print(\"Time elapsed:\", elapsed_time, \"seconds\")\n",
    "\n",
    "highest_occurrence = 0\n",
    "for i in range(11):\n",
    "    highest_occurrence = i if values[i] > values[highest_occurrence] else highest_occurrence\n",
    "\n",
    "print(f'Value with highest occurrence: {highest_occurrence}')\n",
    "print(f'Proportion of times the value 0 was obtained: {values[0]/10000}')\n",
    "print(f'Proportion of times the value 10 was obtained: {values[10]/10000}')"
   ]
  },
  {
   "cell_type": "markdown",
   "metadata": {},
   "source": [
    "## Ejercicio 6.\n",
    "Una variable aleatoria $X$ tiene una función de probabilidad puntual $p_i = P(X = i)$ dada por $p_0 = 0,15, p_1 = 0,20, p_2 = 0,10, p_3 = 0,35, p_4 = 0,20$\n",
    "\n",
    "1. Describir mediante un pseudocódigo un algoritmo que simule $X$ utilizando el método de la transformada inversa y que minimice el número esperado de búsquedas.\n",
    "\n",
    "2. Describir mediante un pseudocódigo un algoritmo que simule $X$ utilizando el método de aceptación y rechazo con una variable soporte Y con distribución binomial $B(4,0.45)$.\n",
    "\n",
    "3. Compare la eficiencia de los dos algoritmos realizando 10000 simulaciones.\n",
    "\n",
    "### Desarrollo.\n",
    "1. Definimos $U \\thicksim \\mathcal{U}[0,1]$ y,\n",
    "$$X = \\begin{cases} 3 & U < 0.35, \\\\ 1 & U < 0.55, \\\\ 4 & U < 0.75, \\\\ 0 & U < 0.90, \\\\ 2 & c.c. \\end{cases}.$$\n",
    "De esta manera, el número esperado de búsquedas es $E(\\text{Número de comparaciones}) = 0.35 \\times 1 + 0.20 \\times 2 + 0.20 \\times 3 + 0.15 \\times 4 = 1.95$.\n",
    "\n",
    "2. Sea $Y \\thicksim B(4,0.45)$, entonces $Y \\in \\{0,1,2,3,4\\}$, con probabilidades $q_i = P(Y=i) = \\binom{4}{i}\\times0.45^i\\times0.55^{4-i}$, para $i=0,...,4$. Luego \n",
    "$$ \\frac{P(X=i)}{P(Y=i)} = \\frac{p_i}{q_i} \\le \\frac{0.35}{q_i} \\le \\frac{0.35}{0.45^4} \\le 8.6.$$\n",
    "\n",
    "### Resolución."
   ]
  },
  {
   "cell_type": "code",
   "execution_count": 180,
   "metadata": {},
   "outputs": [
    {
     "name": "stdout",
     "output_type": "stream",
     "text": [
      "Done!\n",
      "Time elapsed: 0.004614114761352539 seconds\n"
     ]
    }
   ],
   "source": [
    "def simulate1():\n",
    "    U = random()\n",
    "    if U < .35: return 3\n",
    "    elif U < .55: return 1\n",
    "    elif U < .75: return 4\n",
    "    elif U < .90: return 0\n",
    "    else:         return 2\n",
    "\n",
    "# Inicia el cronómetro\n",
    "start_time = time.time()\n",
    "\n",
    "for _ in range(10000):\n",
    "    simulate1()\n",
    "\n",
    "# Detiene el cronómetro\n",
    "end_time = time.time()\n",
    "\n",
    "# Calcula el tiempo transcurrido\n",
    "elapsed_time = end_time - start_time\n",
    "\n",
    "print('Done!')\n",
    "print(\"Time elapsed:\", elapsed_time, \"seconds\")"
   ]
  },
  {
   "cell_type": "code",
   "execution_count": 182,
   "metadata": {},
   "outputs": [
    {
     "name": "stdout",
     "output_type": "stream",
     "text": [
      "Done!\n",
      "Time elapsed: 0.06560873985290527 seconds\n"
     ]
    }
   ],
   "source": [
    "def Binomial(n,p):\n",
    "    c = p / (1 - p)\n",
    "    prob = (1 - p) ** n\n",
    "    F = prob; i=0\n",
    "    U = random()\n",
    "    while U >= F:\n",
    "        prob *= c * (n-i) / (i+1)\n",
    "        F += prob\n",
    "        i += 1\n",
    "    return i  \n",
    "\n",
    "def simulate2(p,q):\n",
    "    while True:\n",
    "        Y = Binomial(4,.45)\n",
    "        U = random()\n",
    "        if  U < p[Y] / (8.6 * q[Y]):\n",
    "            return Y\n",
    "        \n",
    "# Inicia el cronómetro\n",
    "start_time = time.time()\n",
    "\n",
    "p = [.15, .20, .10, .35, .20]\n",
    "q = [.55**4, 4 * .45 * .55**3, 6 * .45**2 * .55**2, 4 * .45**3 * .55, .45**4]\n",
    "for _ in range(10000):\n",
    "    simulate2(p,q)\n",
    "\n",
    "# Detiene el cronómetro\n",
    "end_time = time.time()\n",
    "\n",
    "# Calcula el tiempo transcurrido\n",
    "elapsed_time = end_time - start_time\n",
    "\n",
    "print('Done!')\n",
    "print(\"Time elapsed:\", elapsed_time, \"seconds\")\n",
    "    "
   ]
  }
 ],
 "metadata": {
  "kernelspec": {
   "display_name": "Python 3",
   "language": "python",
   "name": "python3"
  },
  "language_info": {
   "codemirror_mode": {
    "name": "ipython",
    "version": 3
   },
   "file_extension": ".py",
   "mimetype": "text/x-python",
   "name": "python",
   "nbconvert_exporter": "python",
   "pygments_lexer": "ipython3",
   "version": "3.11.6"
  }
 },
 "nbformat": 4,
 "nbformat_minor": 2
}
